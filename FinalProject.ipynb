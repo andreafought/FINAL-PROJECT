{
  "nbformat": 4,
  "nbformat_minor": 0,
  "metadata": {
    "colab": {
      "name": "FinalProject.ipynb",
      "provenance": [],
      "collapsed_sections": [],
      "mount_file_id": "12HhC7AO2lT8R994WX2liHx62h-ynydAc",
      "authorship_tag": "ABX9TyN0r0KZwNmfHC0nPm6Q0+u2",
      "include_colab_link": true
    },
    "kernelspec": {
      "display_name": "Python 3",
      "name": "python3"
    },
    "language_info": {
      "name": "python"
    }
  },
  "cells": [
    {
      "cell_type": "markdown",
      "metadata": {
        "id": "view-in-github",
        "colab_type": "text"
      },
      "source": [
        "<a href=\"https://colab.research.google.com/github/andreafought/FINAL-PROJECT/blob/main/FinalProject.ipynb\" target=\"_parent\"><img src=\"https://colab.research.google.com/assets/colab-badge.svg\" alt=\"Open In Colab\"/></a>"
      ]
    },
    {
      "cell_type": "markdown",
      "metadata": {
        "id": "SA3iI3-tdObF"
      },
      "source": [
        "# **Benford's Law and Image Tampering**"
      ]
    },
    {
      "cell_type": "markdown",
      "metadata": {
        "id": "nuH4C1tyLQUQ"
      },
      "source": [
        "Table of Contents:  \n",
        "1.   Prediction\n",
        "2.   Import libraries\n",
        "3.   Benford's Law\n",
        "4.   Function to Transform Images to DCT and Collect First Number Digits\n",
        "5. Import Image Dataset and Create Dataframe\n",
        "6.   Application of machine learning (decision tree)\n"
      ]
    },
    {
      "cell_type": "markdown",
      "metadata": {
        "id": "uCIT6hS06uIb"
      },
      "source": [
        "#**1. Prediction** -- Has your image been tampered ?"
      ]
    },
    {
      "cell_type": "code",
      "metadata": {
        "colab": {
          "resources": {
            "http://localhost:8080/nbextensions/google.colab/files.js": {
              "data": "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",
              "ok": true,
              "headers": [
                [
                  "content-type",
                  "application/javascript"
                ]
              ],
              "status": 200,
              "status_text": ""
            }
          },
          "base_uri": "https://localhost:8080/",
          "height": 72
        },
        "id": "HXBATbAQ62tw",
        "outputId": "a0702d9a-10b4-45b8-9fe3-92f373ffd3c2"
      },
      "source": [
        "#Insert image\n",
        "from google.colab import files\n",
        "Image = files.upload()"
      ],
      "execution_count": 1,
      "outputs": [
        {
          "output_type": "display_data",
          "data": {
            "text/html": [
              "\n",
              "     <input type=\"file\" id=\"files-6aac7118-355c-415f-91a1-2fb332a79d86\" name=\"files[]\" multiple disabled\n",
              "        style=\"border:none\" />\n",
              "     <output id=\"result-6aac7118-355c-415f-91a1-2fb332a79d86\">\n",
              "      Upload widget is only available when the cell has been executed in the\n",
              "      current browser session. Please rerun this cell to enable.\n",
              "      </output>\n",
              "      <script src=\"/nbextensions/google.colab/files.js\"></script> "
            ],
            "text/plain": [
              "<IPython.core.display.HTML object>"
            ]
          },
          "metadata": {
            "tags": []
          }
        },
        {
          "output_type": "stream",
          "text": [
            "Saving IMG1.jpeg to IMG1.jpeg\n"
          ],
          "name": "stdout"
        }
      ]
    },
    {
      "cell_type": "code",
      "metadata": {
        "id": "xRjhJtdSbF_p"
      },
      "source": [
        "#Code to get frequency of first digit nunbers from DCT\n",
        "data_freq = []\n",
        "fct = compute_first_digits(\"IMG1.jpeg\", normalise=True, debug_dct=False)\n",
        "lat = fct.reshape(fct.shape[0]*fct.shape[1],).tolist()\n",
        "freq = {} \n",
        "for item in lat: \n",
        "  if (item in freq): \n",
        "    freq[item] += 1\n",
        "  else: \n",
        "    freq[item] = 1\n",
        "data_freq.append(freq)\n",
        "new = pd.DataFrame(data_freq)"
      ],
      "execution_count": 132,
      "outputs": []
    },
    {
      "cell_type": "code",
      "metadata": {
        "id": "uzX_i5iMvmkM"
      },
      "source": [
        "#Switch columns \n",
        "new = new[[1,2,3,4,5,6,7,8,9]]"
      ],
      "execution_count": 133,
      "outputs": []
    },
    {
      "cell_type": "code",
      "metadata": {
        "colab": {
          "base_uri": "https://localhost:8080/",
          "height": 80
        },
        "id": "MJxN3HBHv126",
        "outputId": "83232fe1-a4f5-4cd6-a684-fc35ea36f8cd"
      },
      "source": [
        "new"
      ],
      "execution_count": 134,
      "outputs": [
        {
          "output_type": "execute_result",
          "data": {
            "text/html": [
              "<div>\n",
              "<style scoped>\n",
              "    .dataframe tbody tr th:only-of-type {\n",
              "        vertical-align: middle;\n",
              "    }\n",
              "\n",
              "    .dataframe tbody tr th {\n",
              "        vertical-align: top;\n",
              "    }\n",
              "\n",
              "    .dataframe thead th {\n",
              "        text-align: right;\n",
              "    }\n",
              "</style>\n",
              "<table border=\"1\" class=\"dataframe\">\n",
              "  <thead>\n",
              "    <tr style=\"text-align: right;\">\n",
              "      <th></th>\n",
              "      <th>1</th>\n",
              "      <th>2</th>\n",
              "      <th>3</th>\n",
              "      <th>4</th>\n",
              "      <th>5</th>\n",
              "      <th>6</th>\n",
              "      <th>7</th>\n",
              "      <th>8</th>\n",
              "      <th>9</th>\n",
              "    </tr>\n",
              "  </thead>\n",
              "  <tbody>\n",
              "    <tr>\n",
              "      <th>0</th>\n",
              "      <td>3547241</td>\n",
              "      <td>2221281</td>\n",
              "      <td>1607570</td>\n",
              "      <td>1224551</td>\n",
              "      <td>973256</td>\n",
              "      <td>804896</td>\n",
              "      <td>685928</td>\n",
              "      <td>596351</td>\n",
              "      <td>531694</td>\n",
              "    </tr>\n",
              "  </tbody>\n",
              "</table>\n",
              "</div>"
            ],
            "text/plain": [
              "         1        2        3        4       5       6       7       8       9\n",
              "0  3547241  2221281  1607570  1224551  973256  804896  685928  596351  531694"
            ]
          },
          "metadata": {
            "tags": []
          },
          "execution_count": 134
        }
      ]
    },
    {
      "cell_type": "code",
      "metadata": {
        "id": "u8Pf8Wtg_Shg"
      },
      "source": [
        "NewPredict = treemodel.predict(new)"
      ],
      "execution_count": 135,
      "outputs": []
    },
    {
      "cell_type": "code",
      "metadata": {
        "colab": {
          "base_uri": "https://localhost:8080/"
        },
        "id": "5oiZSWFQBZtp",
        "outputId": "19aab443-f95e-45f9-d0c5-0153821f83e8"
      },
      "source": [
        "#Answer question if image has been tampered: 0-No 1-YES\n",
        "NewPredict"
      ],
      "execution_count": 136,
      "outputs": [
        {
          "output_type": "execute_result",
          "data": {
            "text/plain": [
              "array([0], dtype=uint8)"
            ]
          },
          "metadata": {
            "tags": []
          },
          "execution_count": 136
        }
      ]
    },
    {
      "cell_type": "markdown",
      "metadata": {
        "id": "ujwNtc2-daBk"
      },
      "source": [
        "#2. Import Libraries"
      ]
    },
    {
      "cell_type": "code",
      "metadata": {
        "id": "z_3fI6YqdDVn"
      },
      "source": [
        "from google.colab import files\n",
        "import math\n",
        "from PIL import Image\n",
        "import numpy as np\n",
        "import pandas as pd\n",
        "import cv2 as cv2\n",
        "from google.colab.patches import cv2_imshow    \n",
        "from skimage import io\n",
        "import glob\n",
        "from tqdm import tqdm\n",
        "from skimage import data, io, filters\n",
        "import matplotlib.pyplot as plt\n",
        "from sklearn.metrics import confusion_matrix\n",
        "from sklearn.metrics import plot_confusion_matrix\n",
        "from sklearn.metrics import accuracy_score\n",
        "from sklearn.metrics import classification_report\n",
        "from imblearn import under_sampling, over_sampling \n",
        "from imblearn.over_sampling import SMOTE\n",
        "import sklearn.metrics as metrics\n",
        "from sklearn.tree import DecisionTreeClassifier\n",
        "import shutil\n",
        "import os\n",
        "from sklearn.model_selection import train_test_split"
      ],
      "execution_count": 85,
      "outputs": []
    },
    {
      "cell_type": "markdown",
      "metadata": {
        "id": "X2iotCjCq0Ru"
      },
      "source": [
        "#3. Benford's Law"
      ]
    },
    {
      "cell_type": "code",
      "metadata": {
        "colab": {
          "base_uri": "https://localhost:8080/",
          "height": 350
        },
        "id": "3g15AJ2Dq8GQ",
        "outputId": "da6e8226-0a38-450c-e500-0f67b1dc91c4"
      },
      "source": [
        "#Benford's Law histogram\n",
        "x = np.arange(1, 10)\n",
        "benford = np.log10(1 + 1 / x)\n",
        "plt.figure(figsize=(10,5))\n",
        "plt.bar(x, benford)\n",
        "plt.title(\"Benford's Law Distribution\")\n",
        "plt.xlabel('First digit')\n",
        "plt.ylabel('Probability')\n",
        "plt.show()\n",
        "plt.close()"
      ],
      "execution_count": 86,
      "outputs": [
        {
          "output_type": "display_data",
          "data": {
            "image/png": "[encoded data removed]",
            "text/plain": [
              "<Figure size 720x360 with 1 Axes>"
            ]
          },
          "metadata": {
            "tags": [],
            "needs_background": "light"
          }
        }
      ]
    },
    {
      "cell_type": "code",
      "metadata": {
        "colab": {
          "base_uri": "https://localhost:8080/",
          "height": 350
        },
        "id": "iFWub00ArXmA",
        "outputId": "d5f0997e-5ba0-4a6f-b9ef-1203ac29a60e"
      },
      "source": [
        "#Benford's Law with a linear histogram\n",
        "plt.figure(figsize=(10,5))\n",
        "plt.plot(x, benford)\n",
        "plt.title(\"Benford's Law Distribution\")\n",
        "plt.xlabel('First digit')\n",
        "plt.ylabel('Probability')\n",
        "plt.show()\n",
        "plt.close()"
      ],
      "execution_count": 87,
      "outputs": [
        {
          "output_type": "display_data",
          "data": {
            "image/png": "[encoded data removed]",
            "text/plain": [
              "<Figure size 720x360 with 1 Axes>"
            ]
          },
          "metadata": {
            "tags": [],
            "needs_background": "light"
          }
        }
      ]
    },
    {
      "cell_type": "markdown",
      "metadata": {
        "id": "r5ZchRD1mk28"
      },
      "source": [
        "#4. Function to Transform Images to DCT and Collect First Number Digits"
      ]
    },
    {
      "cell_type": "code",
      "metadata": {
        "id": "-eoWcDT6mmS6"
      },
      "source": [
        "def compute_first_digits(img, normalise=False, debug_dct=False):\n",
        "    if isinstance(img, str):\n",
        "        img = cv2.imread(img, cv2.IMREAD_GRAYSCALE)\n",
        "        \n",
        "    if len(img.shape) == 3 :\n",
        "        img = cv2.cvtColor(img, cv2.COLOR_BGR2GRAY)\n",
        "    \n",
        "    if normalise:\n",
        "        norm = cv2.normalize(img, np.zeros(img.shape), 0, 255, cv2.NORM_MINMAX)\n",
        "        \n",
        "\n",
        "    dct = cv2.dct(np.float32(img) / 255.0)\n",
        "    dct = np.abs(dct)  # Take abs values\n",
        "    if debug_dct:\n",
        "        print(dct)\n",
        "\n",
        "    min_val = dct.min()\n",
        "    if min_val < 1:\n",
        "        dct = np.power(10, -np.floor(np.log10(min_val)) + 1) * dct  # Scale all up to remove leading 0.00s\n",
        "    \n",
        "    if not (dct >= 1.0).all():\n",
        "        raise ValueError(\"Error\")\n",
        "    \n",
        "    digits = np.log10(dct).astype(int).astype('float32')\n",
        "    first_digits = dct / np.power(10, digits)\n",
        "    first_digits[(first_digits < 1.0) & (first_digits > 0.9)] = 1  # Handle edge case.\n",
        "    first_digits = first_digits.astype(int)\n",
        "    \n",
        "    if not (first_digits >= 1).all() and (first_digits <= 9).all():\n",
        "        raise ValueError(\"Error\")\n",
        "\n",
        "    return first_digits\n",
        "\n",
        "\n",
        "def compute_first_digits_counts(img, normalise=False):\n",
        "    first_digits = compute_first_digits(img, normalise=normalise)\n",
        "    unq, counts = np.unique(first_digits, return_counts=True)\n",
        "    return unq, counts"
      ],
      "execution_count": 88,
      "outputs": []
    },
    {
      "cell_type": "markdown",
      "metadata": {
        "id": "pEkah9d4iUXq"
      },
      "source": [
        "# 5. Import Image Dataset and Create Dataframe"
      ]
    },
    {
      "cell_type": "code",
      "metadata": {
        "colab": {
          "base_uri": "https://localhost:8080/"
        },
        "id": "aqswRUyILQj9",
        "outputId": "0abec570-e8c8-4242-e78c-58789369a310"
      },
      "source": [
        "#Unmount google drive\n",
        "from google.colab import drive\n",
        "drive.mount('/content/gdrive')"
      ],
      "execution_count": 89,
      "outputs": [
        {
          "output_type": "stream",
          "text": [
            "Mounted at /content/gdrive\n"
          ],
          "name": "stdout"
        }
      ]
    },
    {
      "cell_type": "markdown",
      "metadata": {
        "id": "NStaM1OQqXCh"
      },
      "source": [
        "Authentic Images"
      ]
    },
    {
      "cell_type": "code",
      "metadata": {
        "colab": {
          "base_uri": "https://localhost:8080/"
        },
        "id": "EhlvYDa5TRyB",
        "outputId": "b9a812c0-d48b-4d67-d19a-07912f647aa5"
      },
      "source": [
        "#Import authentic images\n",
        "!unzip gdrive/MyDrive/IMG_Project/Authentic.zip"
      ],
      "execution_count": 90,
      "outputs": [
        {
          "output_type": "stream",
          "text": [
            "Archive:  gdrive/MyDrive/IMG_Project/Authentic.zip\n",
            "replace Authentic/CRW_4827_scale.jpg? [y]es, [n]o, [A]ll, [N]one, [r]ename: A\n",
            "  inflating: Authentic/CRW_4827_scale.jpg  \n",
            "  inflating: __MACOSX/Authentic/._CRW_4827_scale.jpg  \n",
            "  inflating: Authentic/DSC_0535_scale.jpg  \n",
            "  inflating: __MACOSX/Authentic/._DSC_0535_scale.jpg  \n",
            "  inflating: Authentic/DSC_1549_scale.jpg  \n",
            "  inflating: __MACOSX/Authentic/._DSC_1549_scale.jpg  \n",
            "  inflating: Authentic/DSC_1580_scale.jpg  \n",
            "  inflating: __MACOSX/Authentic/._DSC_1580_scale.jpg  \n",
            "  inflating: Authentic/DSCN2320_scale.jpg  \n",
            "  inflating: __MACOSX/Authentic/._DSCN2320_scale.jpg  \n",
            "  inflating: Authentic/CRW_4833_scale.jpg  \n",
            "  inflating: __MACOSX/Authentic/._CRW_4833_scale.jpg  \n",
            "  inflating: Authentic/DSCN48_scale.jpg  \n",
            "  inflating: __MACOSX/Authentic/._DSCN48_scale.jpg  \n",
            "  inflating: Authentic/DSCF1853_scale.jpg  \n",
            "  inflating: __MACOSX/Authentic/._DSCF1853_scale.jpg  \n",
            "  inflating: Authentic/sony_63_scale.jpg  \n",
            "  inflating: __MACOSX/Authentic/._sony_63_scale.jpg  \n",
            "  inflating: Authentic/DSC_1568_scale.jpg  \n",
            "  inflating: __MACOSX/Authentic/._DSC_1568_scale.jpg  \n",
            "  inflating: Authentic/DSCF2059_scale.jpg  \n",
            "  inflating: __MACOSX/Authentic/._DSCF2059_scale.jpg  \n",
            "  inflating: Authentic/DSC_1550_scale.jpg  \n",
            "  inflating: __MACOSX/Authentic/._DSC_1550_scale.jpg  \n",
            "  inflating: Authentic/DSCF2_scale.jpg  \n",
            "  inflating: __MACOSX/Authentic/._DSCF2_scale.jpg  \n",
            "  inflating: Authentic/DSC_1571_scale.jpg  \n",
            "  inflating: __MACOSX/Authentic/._DSC_1571_scale.jpg  \n",
            "  inflating: Authentic/DSCN45_scale.jpg  \n",
            "  inflating: __MACOSX/Authentic/._DSCN45_scale.jpg  \n",
            "  inflating: Authentic/sony_71_scale.jpg  \n",
            "  inflating: __MACOSX/Authentic/._sony_71_scale.jpg  \n",
            "  inflating: Authentic/P1000318_scale.jpg  \n",
            "  inflating: __MACOSX/Authentic/._P1000318_scale.jpg  \n",
            "  inflating: Authentic/CRW_4814_scale.jpg  \n",
            "  inflating: __MACOSX/Authentic/._CRW_4814_scale.jpg  \n",
            "  inflating: Authentic/.DS_Store     \n",
            "  inflating: __MACOSX/Authentic/._.DS_Store  \n",
            "  inflating: Authentic/DSCF11_scale.jpg  \n",
            "  inflating: __MACOSX/Authentic/._DSCF11_scale.jpg  \n",
            "  inflating: Authentic/sony_65_scale.jpg  \n",
            "  inflating: __MACOSX/Authentic/._sony_65_scale.jpg  \n",
            "  inflating: Authentic/CRW_4821_scale.jpg  \n",
            "  inflating: __MACOSX/Authentic/._CRW_4821_scale.jpg  \n",
            "  inflating: Authentic/DSC_1535_scale.jpg  \n",
            "  inflating: __MACOSX/Authentic/._DSC_1535_scale.jpg  \n",
            "  inflating: Authentic/CRW_4835_scale.jpg  \n",
            "  inflating: __MACOSX/Authentic/._CRW_4835_scale.jpg  \n",
            "  inflating: Authentic/DSCF9_scale.jpg  \n",
            "  inflating: __MACOSX/Authentic/._DSCF9_scale.jpg  \n",
            "  inflating: Authentic/DSCN2326_scale.jpg  \n",
            "  inflating: __MACOSX/Authentic/._DSCN2326_scale.jpg  \n",
            "  inflating: Authentic/DSCN43_scale.jpg  \n",
            "  inflating: __MACOSX/Authentic/._DSCN43_scale.jpg  \n",
            "  inflating: Authentic/sony_68_scale.jpg  \n",
            "  inflating: __MACOSX/Authentic/._sony_68_scale.jpg  \n",
            "  inflating: Authentic/DSC_1542_scale.jpg  \n",
            "  inflating: __MACOSX/Authentic/._DSC_1542_scale.jpg  \n",
            "  inflating: Authentic/DSC_1538_scale.jpg  \n",
            "  inflating: __MACOSX/Authentic/._DSC_1538_scale.jpg  \n",
            "  inflating: Authentic/CRW_4838_scale.jpg  \n",
            "  inflating: __MACOSX/Authentic/._CRW_4838_scale.jpg  \n",
            "  inflating: Authentic/CRW_4842_scale.jpg  \n",
            "  inflating: __MACOSX/Authentic/._CRW_4842_scale.jpg  \n",
            "  inflating: Authentic/DSCF4_scale.jpg  \n",
            "  inflating: __MACOSX/Authentic/._DSCF4_scale.jpg  \n",
            "  inflating: Authentic/DSCN2321_scale.jpg  \n",
            "  inflating: __MACOSX/Authentic/._DSCN2321_scale.jpg  \n",
            "  inflating: Authentic/CRW_4848_scale.jpg  \n",
            "  inflating: __MACOSX/Authentic/._CRW_4848_scale.jpg  \n",
            "  inflating: Authentic/DSC_1595_scale.jpg  \n",
            "  inflating: __MACOSX/Authentic/._DSC_1595_scale.jpg  \n",
            "  inflating: Authentic/DSC_1581_scale.jpg  \n",
            "  inflating: __MACOSX/Authentic/._DSC_1581_scale.jpg  \n",
            "  inflating: Authentic/DSCF16_scale.jpg  \n",
            "  inflating: __MACOSX/Authentic/._DSCF16_scale.jpg  \n",
            "  inflating: Authentic/DSCN49_scale.jpg  \n",
            "  inflating: __MACOSX/Authentic/._DSCN49_scale.jpg  \n",
            "  inflating: Authentic/DSCF3_scale.jpg  \n",
            "  inflating: __MACOSX/Authentic/._DSCF3_scale.jpg  \n",
            "  inflating: Authentic/DSCN50_scale.jpg  \n",
            "  inflating: __MACOSX/Authentic/._DSCN50_scale.jpg  \n",
            "  inflating: Authentic/DSC_1570_scale.jpg  \n",
            "  inflating: __MACOSX/Authentic/._DSC_1570_scale.jpg  \n",
            "  inflating: Authentic/DSCN44_scale.jpg  \n",
            "  inflating: __MACOSX/Authentic/._DSCN44_scale.jpg  \n",
            "  inflating: Authentic/P1000231_scale.jpg  \n",
            "  inflating: __MACOSX/Authentic/._P1000231_scale.jpg  \n",
            "  inflating: Authentic/DSCF10_scale.jpg  \n",
            "  inflating: __MACOSX/Authentic/._DSCF10_scale.jpg  \n",
            "  inflating: Authentic/sony_64_scale.jpg  \n",
            "  inflating: __MACOSX/Authentic/._sony_64_scale.jpg  \n",
            "  inflating: Authentic/sony_70_scale.jpg  \n",
            "  inflating: __MACOSX/Authentic/._sony_70_scale.jpg  \n",
            "  inflating: Authentic/CRW_4815_scale.jpg  \n",
            "  inflating: __MACOSX/Authentic/._CRW_4815_scale.jpg  \n",
            "  inflating: Authentic/IMG_32_scale.jpg  \n",
            "  inflating: __MACOSX/Authentic/._IMG_32_scale.jpg  \n",
            "  inflating: Authentic/CRW_4834_scale.jpg  \n",
            "  inflating: __MACOSX/Authentic/._CRW_4834_scale.jpg  \n",
            "  inflating: Authentic/DSCF8_scale.jpg  \n",
            "  inflating: __MACOSX/Authentic/._DSCF8_scale.jpg  \n",
            "  inflating: Authentic/DSCN2327_scale.jpg  \n",
            "  inflating: __MACOSX/Authentic/._DSCN2327_scale.jpg  \n",
            "  inflating: Authentic/CRW_4820_scale.jpg  \n",
            "  inflating: __MACOSX/Authentic/._CRW_4820_scale.jpg  \n",
            "  inflating: Authentic/nikon_7_scale.jpg  \n",
            "  inflating: __MACOSX/Authentic/._nikon_7_scale.jpg  \n",
            "  inflating: Authentic/sony_69_scale.jpg  \n",
            "  inflating: __MACOSX/Authentic/._sony_69_scale.jpg  \n",
            "  inflating: Authentic/CRW_4818_scale.jpg  \n",
            "  inflating: __MACOSX/Authentic/._CRW_4818_scale.jpg  \n",
            "  inflating: Authentic/DSC_1576_scale.jpg  \n",
            "  inflating: __MACOSX/Authentic/._DSC_1576_scale.jpg  \n",
            "  inflating: Authentic/P1000472_scale.jpg  \n",
            "  inflating: __MACOSX/Authentic/._P1000472_scale.jpg  \n",
            "  inflating: Authentic/CRW_4839_scale.jpg  \n",
            "  inflating: __MACOSX/Authentic/._CRW_4839_scale.jpg  \n",
            "  inflating: Authentic/DSC_1557_scale.jpg  \n",
            "  inflating: __MACOSX/Authentic/._DSC_1557_scale.jpg  \n",
            "  inflating: Authentic/DSCF5_scale.jpg  \n",
            "  inflating: __MACOSX/Authentic/._DSCF5_scale.jpg  \n",
            "  inflating: Authentic/DSC_1539_scale.jpg  \n",
            "  inflating: __MACOSX/Authentic/._DSC_1539_scale.jpg  \n",
            "  inflating: Authentic/CRW_4810_scale.jpg  \n",
            "  inflating: __MACOSX/Authentic/._CRW_4810_scale.jpg  \n",
            "  inflating: Authentic/P1000293_scale.jpg  \n",
            "  inflating: __MACOSX/Authentic/._P1000293_scale.jpg  \n",
            "  inflating: Authentic/DSCF15_scale.jpg  \n",
            "  inflating: __MACOSX/Authentic/._DSCF15_scale.jpg  \n",
            "  inflating: Authentic/sony_61_scale.jpg  \n",
            "  inflating: __MACOSX/Authentic/._sony_61_scale.jpg  \n",
            "  inflating: Authentic/P1000528_scale.jpg  \n",
            "  inflating: __MACOSX/Authentic/._P1000528_scale.jpg  \n",
            "  inflating: Authentic/CRW_4825_scale.jpg  \n",
            "  inflating: __MACOSX/Authentic/._CRW_4825_scale.jpg  \n",
            "  inflating: Authentic/DSCN2322_scale.jpg  \n",
            "  inflating: __MACOSX/Authentic/._DSCN2322_scale.jpg  \n",
            "  inflating: Authentic/CRW_4831_scale.jpg  \n",
            "  inflating: __MACOSX/Authentic/._CRW_4831_scale.jpg  \n",
            "  inflating: Authentic/CRW_4901_JFR_scale.jpg  \n",
            "  inflating: __MACOSX/Authentic/._CRW_4901_JFR_scale.jpg  \n",
            "  inflating: Authentic/DSCN47_scale.jpg  \n",
            "  inflating: __MACOSX/Authentic/._DSCN47_scale.jpg  \n",
            "  inflating: Authentic/DSC_1573_scale.jpg  \n",
            "  inflating: __MACOSX/Authentic/._DSC_1573_scale.jpg  \n",
            "  inflating: Authentic/CRW_4809_scale.jpg  \n",
            "  inflating: __MACOSX/Authentic/._CRW_4809_scale.jpg  \n",
            "  inflating: Authentic/DSCF18_scale.jpg  \n",
            "  inflating: __MACOSX/Authentic/._DSCF18_scale.jpg  \n",
            "  inflating: Authentic/DSC_1567_scale.jpg  \n",
            "  inflating: __MACOSX/Authentic/._DSC_1567_scale.jpg  \n",
            "  inflating: Authentic/DSC_1546_scale.jpg  \n",
            "  inflating: __MACOSX/Authentic/._DSC_1546_scale.jpg  \n",
            "  inflating: Authentic/CRW_4852_scale.jpg  \n",
            "  inflating: __MACOSX/Authentic/._CRW_4852_scale.jpg  \n",
            "  inflating: Authentic/P1000213_scale.jpg  \n",
            "  inflating: __MACOSX/Authentic/._P1000213_scale.jpg  \n",
            "  inflating: Authentic/CRW_4823_scale.jpg  \n",
            "  inflating: __MACOSX/Authentic/._CRW_4823_scale.jpg  \n",
            "  inflating: Authentic/DSCN2324_scale.jpg  \n",
            "  inflating: __MACOSX/Authentic/._DSCN2324_scale.jpg  \n",
            "  inflating: Authentic/DSCF13_scale.jpg  \n",
            "  inflating: __MACOSX/Authentic/._DSCF13_scale.jpg  \n",
            "  inflating: Authentic/sony_67_scale.jpg  \n",
            "  inflating: __MACOSX/Authentic/._sony_67_scale.jpg  \n",
            "  inflating: Authentic/DSC_1540_scale.jpg  \n",
            "  inflating: __MACOSX/Authentic/._DSC_1540_scale.jpg  \n",
            "  inflating: Authentic/DSCF6_scale.jpg  \n",
            "  inflating: __MACOSX/Authentic/._DSCF6_scale.jpg  \n",
            "  inflating: Authentic/DSC_1554_scale.jpg  \n",
            "  inflating: __MACOSX/Authentic/._DSC_1554_scale.jpg  \n",
            "  inflating: Authentic/CRW_4840_scale.jpg  \n",
            "  inflating: __MACOSX/Authentic/._CRW_4840_scale.jpg  \n",
            "  inflating: Authentic/DSCN2329_scale.jpg  \n",
            "  inflating: __MACOSX/Authentic/._DSCN2329_scale.jpg  \n",
            "  inflating: Authentic/DSC_0812_scale.jpg  \n",
            "  inflating: __MACOSX/Authentic/._DSC_0812_scale.jpg  \n",
            "  inflating: Authentic/DSCN41_scale.jpg  \n",
            "  inflating: __MACOSX/Authentic/._DSCN41_scale.jpg  \n",
            "  inflating: Authentic/DSC_1575_scale.jpg  \n",
            "  inflating: __MACOSX/Authentic/._DSC_1575_scale.jpg  \n",
            "  inflating: Authentic/DSC_1561_scale.jpg  \n",
            "  inflating: __MACOSX/Authentic/._DSC_1561_scale.jpg  \n",
            "  inflating: Authentic/P1000553_scale.jpg  \n",
            "  inflating: __MACOSX/Authentic/._P1000553_scale.jpg  \n",
            "  inflating: Authentic/DSCF14_scale.jpg  \n",
            "  inflating: __MACOSX/Authentic/._DSCF14_scale.jpg  \n",
            "  inflating: Authentic/DSCN2323_scale.jpg  \n",
            "  inflating: __MACOSX/Authentic/._DSCN2323_scale.jpg  \n",
            "  inflating: Authentic/CRW_4830_scale.jpg  \n",
            "  inflating: __MACOSX/Authentic/._CRW_4830_scale.jpg  \n",
            "  inflating: Authentic/DSCN46_scale.jpg  \n",
            "  inflating: __MACOSX/Authentic/._DSCN46_scale.jpg  \n",
            "  inflating: Authentic/DSC_1572_scale.jpg  \n",
            "  inflating: __MACOSX/Authentic/._DSC_1572_scale.jpg  \n",
            "  inflating: Authentic/DSCF1_scale.jpg  \n",
            "  inflating: __MACOSX/Authentic/._DSCF1_scale.jpg  \n",
            "  inflating: Authentic/CRW_4829_scale.jpg  \n",
            "  inflating: __MACOSX/Authentic/._CRW_4829_scale.jpg  \n",
            "  inflating: Authentic/CRW_4853_scale.jpg  \n",
            "  inflating: __MACOSX/Authentic/._CRW_4853_scale.jpg  \n",
            "  inflating: Authentic/CRW_4836_scale.jpg  \n",
            "  inflating: __MACOSX/Authentic/._CRW_4836_scale.jpg  \n",
            "  inflating: Authentic/DSCN2325_scale.jpg  \n",
            "  inflating: __MACOSX/Authentic/._DSCN2325_scale.jpg  \n",
            "  inflating: Authentic/CRW_4822_scale.jpg  \n",
            "  inflating: __MACOSX/Authentic/._CRW_4822_scale.jpg  \n",
            "  inflating: Authentic/DSCF12_scale.jpg  \n",
            "  inflating: __MACOSX/Authentic/._DSCF12_scale.jpg  \n",
            "  inflating: Authentic/sony_66_scale.jpg  \n",
            "  inflating: __MACOSX/Authentic/._sony_66_scale.jpg  \n",
            "  inflating: Authentic/CRW_4817_scale.jpg  \n",
            "  inflating: __MACOSX/Authentic/._CRW_4817_scale.jpg  \n",
            "  inflating: Authentic/sony_72_scale.jpg  \n",
            "  inflating: __MACOSX/Authentic/._sony_72_scale.jpg  \n",
            "  inflating: Authentic/DSCF7_scale.jpg  \n",
            "  inflating: __MACOSX/Authentic/._DSCF7_scale.jpg  \n",
            "  inflating: Authentic/CRW_4841_scale.jpg  \n",
            "  inflating: __MACOSX/Authentic/._CRW_4841_scale.jpg  \n",
            "  inflating: Authentic/DSCN2328_scale.jpg  \n",
            "  inflating: __MACOSX/Authentic/._DSCN2328_scale.jpg  \n"
          ],
          "name": "stdout"
        }
      ]
    },
    {
      "cell_type": "code",
      "metadata": {
        "id": "gmu3gFQQVDGq"
      },
      "source": [
        "#Create list of images\n",
        "authentic_img = []\n",
        "for root, subdirs, files in os.walk(\".\"):\n",
        "  for file in files:\n",
        "     if file.endswith(\"jpg\"):\n",
        "         authentic_img.append(os.path.join(root, file))"
      ],
      "execution_count": 91,
      "outputs": []
    },
    {
      "cell_type": "code",
      "metadata": {
        "id": "l5hGUSqe_Xu5"
      },
      "source": [
        "#Create list of the Authentic images\n",
        "authentic_img2 = [img.lstrip(\"./\") for img in authentic_img if img.startswith(\"./Authentic\")]"
      ],
      "execution_count": 92,
      "outputs": []
    },
    {
      "cell_type": "code",
      "metadata": {
        "id": "yHkkaWpilObz"
      },
      "source": [
        "img_even = []\n",
        "for root, subdirs, files in os.walk(\"./even_imgs\"):\n",
        "  for file in files:\n",
        "     if file.endswith(\"jpg\"):\n",
        "         img_even.append(os.path.join(root, file))"
      ],
      "execution_count": 93,
      "outputs": []
    },
    {
      "cell_type": "code",
      "metadata": {
        "id": "N1Rk8cdl7OpU"
      },
      "source": [
        "#Function if image has even dimensions \n",
        "from PIL import Image\n",
        "import os.path\n",
        "def is_img_even(file_img):\n",
        "  img = Image.open(file_img)\n",
        "  size = img.size\n",
        "  if size[0] % 2 == 0  and size[1] % 2 == 0:\n",
        "  #print(\"Image is even\", size)\n",
        "    return True\n",
        "  else:\n",
        "  #print(\"Image is odd\", size)\n",
        "    return False"
      ],
      "execution_count": 94,
      "outputs": []
    },
    {
      "cell_type": "code",
      "metadata": {
        "colab": {
          "base_uri": "https://localhost:8080/"
        },
        "id": "iEsrdG6v7PoP",
        "outputId": "b7863c81-818c-4fe1-904e-cc537a3d4583"
      },
      "source": [
        "#Create folder with all even authentic images \n",
        "!mkdir even_imgs"
      ],
      "execution_count": 95,
      "outputs": [
        {
          "output_type": "stream",
          "text": [
            "mkdir: cannot create directory ‘even_imgs’: File exists\n"
          ],
          "name": "stdout"
        }
      ]
    },
    {
      "cell_type": "code",
      "metadata": {
        "id": "bFOWWkIb7Pyp"
      },
      "source": [
        "#Import even authentic images into new folder\n",
        "import shutil\n",
        "for img in authentic_img2:\n",
        "  if is_img_even(img):\n",
        "    shutil.copy(img, \"./even_imgs/\"+os.path.basename(img))"
      ],
      "execution_count": 96,
      "outputs": []
    },
    {
      "cell_type": "code",
      "metadata": {
        "id": "RwMfbQEy7P9Z"
      },
      "source": [
        "#Create authentic dataframe with image, and the frequency of first digits\n",
        "c = 0\n",
        "data_freq = []\n",
        "for i in img_even:\n",
        "\n",
        "  fct = compute_first_digits(i, normalise=True, debug_dct=False)\n",
        "  com = fct.reshape(fct.shape[0]*fct.shape[1],).tolist()\n",
        "  freq = {} \n",
        "  for item in com: \n",
        "    if (item in freq): \n",
        "      freq[item] += 1\n",
        "    else: \n",
        "      freq[item] = 1\n",
        "  freq['Img']= i\n",
        "  data_freq.append(freq)\n",
        "df = pd.DataFrame(data_freq)"
      ],
      "execution_count": 97,
      "outputs": []
    },
    {
      "cell_type": "code",
      "metadata": {
        "id": "g_LsyBSu7fSP"
      },
      "source": [
        "df['Tampered?']= \"No\""
      ],
      "execution_count": 98,
      "outputs": []
    },
    {
      "cell_type": "code",
      "metadata": {
        "colab": {
          "base_uri": "https://localhost:8080/",
          "height": 419
        },
        "id": "jz5ctoiqSgPa",
        "outputId": "1f501a39-a770-4f50-ae25-9e1967c6c5b9"
      },
      "source": [
        "df"
      ],
      "execution_count": 99,
      "outputs": [
        {
          "output_type": "execute_result",
          "data": {
            "text/html": [
              "<div>\n",
              "<style scoped>\n",
              "    .dataframe tbody tr th:only-of-type {\n",
              "        vertical-align: middle;\n",
              "    }\n",
              "\n",
              "    .dataframe tbody tr th {\n",
              "        vertical-align: top;\n",
              "    }\n",
              "\n",
              "    .dataframe thead th {\n",
              "        text-align: right;\n",
              "    }\n",
              "</style>\n",
              "<table border=\"1\" class=\"dataframe\">\n",
              "  <thead>\n",
              "    <tr style=\"text-align: right;\">\n",
              "      <th></th>\n",
              "      <th>3</th>\n",
              "      <th>2</th>\n",
              "      <th>4</th>\n",
              "      <th>1</th>\n",
              "      <th>6</th>\n",
              "      <th>8</th>\n",
              "      <th>9</th>\n",
              "      <th>7</th>\n",
              "      <th>5</th>\n",
              "      <th>Img</th>\n",
              "      <th>Tampered?</th>\n",
              "    </tr>\n",
              "  </thead>\n",
              "  <tbody>\n",
              "    <tr>\n",
              "      <th>0</th>\n",
              "      <td>58764</td>\n",
              "      <td>83913</td>\n",
              "      <td>45482</td>\n",
              "      <td>146147</td>\n",
              "      <td>32332</td>\n",
              "      <td>24897</td>\n",
              "      <td>22381</td>\n",
              "      <td>28172</td>\n",
              "      <td>37912</td>\n",
              "      <td>./even_imgs/DSCF6_scale.jpg</td>\n",
              "      <td>No</td>\n",
              "    </tr>\n",
              "    <tr>\n",
              "      <th>1</th>\n",
              "      <td>59333</td>\n",
              "      <td>88017</td>\n",
              "      <td>44647</td>\n",
              "      <td>149993</td>\n",
              "      <td>30122</td>\n",
              "      <td>23837</td>\n",
              "      <td>22000</td>\n",
              "      <td>26656</td>\n",
              "      <td>35395</td>\n",
              "      <td>./even_imgs/sony_67_scale.jpg</td>\n",
              "      <td>No</td>\n",
              "    </tr>\n",
              "    <tr>\n",
              "      <th>2</th>\n",
              "      <td>51785</td>\n",
              "      <td>76100</td>\n",
              "      <td>39509</td>\n",
              "      <td>132818</td>\n",
              "      <td>27520</td>\n",
              "      <td>21575</td>\n",
              "      <td>19675</td>\n",
              "      <td>24231</td>\n",
              "      <td>32387</td>\n",
              "      <td>./even_imgs/DSC_1535_scale.jpg</td>\n",
              "      <td>No</td>\n",
              "    </tr>\n",
              "    <tr>\n",
              "      <th>3</th>\n",
              "      <td>59636</td>\n",
              "      <td>85509</td>\n",
              "      <td>45690</td>\n",
              "      <td>146103</td>\n",
              "      <td>31879</td>\n",
              "      <td>24110</td>\n",
              "      <td>21971</td>\n",
              "      <td>27639</td>\n",
              "      <td>37463</td>\n",
              "      <td>./even_imgs/P1000213_scale.jpg</td>\n",
              "      <td>No</td>\n",
              "    </tr>\n",
              "    <tr>\n",
              "      <th>4</th>\n",
              "      <td>59922</td>\n",
              "      <td>84316</td>\n",
              "      <td>46248</td>\n",
              "      <td>143747</td>\n",
              "      <td>32467</td>\n",
              "      <td>24698</td>\n",
              "      <td>22100</td>\n",
              "      <td>28172</td>\n",
              "      <td>38330</td>\n",
              "      <td>./even_imgs/DSCF4_scale.jpg</td>\n",
              "      <td>No</td>\n",
              "    </tr>\n",
              "    <tr>\n",
              "      <th>...</th>\n",
              "      <td>...</td>\n",
              "      <td>...</td>\n",
              "      <td>...</td>\n",
              "      <td>...</td>\n",
              "      <td>...</td>\n",
              "      <td>...</td>\n",
              "      <td>...</td>\n",
              "      <td>...</td>\n",
              "      <td>...</td>\n",
              "      <td>...</td>\n",
              "      <td>...</td>\n",
              "    </tr>\n",
              "    <tr>\n",
              "      <th>59</th>\n",
              "      <td>59897</td>\n",
              "      <td>82576</td>\n",
              "      <td>47810</td>\n",
              "      <td>141136</td>\n",
              "      <td>33246</td>\n",
              "      <td>25078</td>\n",
              "      <td>22065</td>\n",
              "      <td>28817</td>\n",
              "      <td>39375</td>\n",
              "      <td>./even_imgs/sony_61_scale.jpg</td>\n",
              "      <td>No</td>\n",
              "    </tr>\n",
              "    <tr>\n",
              "      <th>60</th>\n",
              "      <td>42959</td>\n",
              "      <td>60959</td>\n",
              "      <td>33135</td>\n",
              "      <td>106346</td>\n",
              "      <td>22767</td>\n",
              "      <td>17758</td>\n",
              "      <td>16007</td>\n",
              "      <td>19815</td>\n",
              "      <td>26814</td>\n",
              "      <td>./even_imgs/DSC_1538_scale.jpg</td>\n",
              "      <td>No</td>\n",
              "    </tr>\n",
              "    <tr>\n",
              "      <th>61</th>\n",
              "      <td>43647</td>\n",
              "      <td>59512</td>\n",
              "      <td>34759</td>\n",
              "      <td>101811</td>\n",
              "      <td>24032</td>\n",
              "      <td>17880</td>\n",
              "      <td>15929</td>\n",
              "      <td>20756</td>\n",
              "      <td>28234</td>\n",
              "      <td>./even_imgs/DSC_1570_scale.jpg</td>\n",
              "      <td>No</td>\n",
              "    </tr>\n",
              "    <tr>\n",
              "      <th>62</th>\n",
              "      <td>61313</td>\n",
              "      <td>86696</td>\n",
              "      <td>47110</td>\n",
              "      <td>142639</td>\n",
              "      <td>31829</td>\n",
              "      <td>23741</td>\n",
              "      <td>21493</td>\n",
              "      <td>27389</td>\n",
              "      <td>37790</td>\n",
              "      <td>./even_imgs/sony_66_scale.jpg</td>\n",
              "      <td>No</td>\n",
              "    </tr>\n",
              "    <tr>\n",
              "      <th>63</th>\n",
              "      <td>55101</td>\n",
              "      <td>75735</td>\n",
              "      <td>42617</td>\n",
              "      <td>123824</td>\n",
              "      <td>28640</td>\n",
              "      <td>21748</td>\n",
              "      <td>18821</td>\n",
              "      <td>24590</td>\n",
              "      <td>34524</td>\n",
              "      <td>./even_imgs/DSC_1568_scale.jpg</td>\n",
              "      <td>No</td>\n",
              "    </tr>\n",
              "  </tbody>\n",
              "</table>\n",
              "<p>64 rows × 11 columns</p>\n",
              "</div>"
            ],
            "text/plain": [
              "        3      2      4  ...      5                             Img  Tampered?\n",
              "0   58764  83913  45482  ...  37912     ./even_imgs/DSCF6_scale.jpg         No\n",
              "1   59333  88017  44647  ...  35395   ./even_imgs/sony_67_scale.jpg         No\n",
              "2   51785  76100  39509  ...  32387  ./even_imgs/DSC_1535_scale.jpg         No\n",
              "3   59636  85509  45690  ...  37463  ./even_imgs/P1000213_scale.jpg         No\n",
              "4   59922  84316  46248  ...  38330     ./even_imgs/DSCF4_scale.jpg         No\n",
              "..    ...    ...    ...  ...    ...                             ...        ...\n",
              "59  59897  82576  47810  ...  39375   ./even_imgs/sony_61_scale.jpg         No\n",
              "60  42959  60959  33135  ...  26814  ./even_imgs/DSC_1538_scale.jpg         No\n",
              "61  43647  59512  34759  ...  28234  ./even_imgs/DSC_1570_scale.jpg         No\n",
              "62  61313  86696  47110  ...  37790   ./even_imgs/sony_66_scale.jpg         No\n",
              "63  55101  75735  42617  ...  34524  ./even_imgs/DSC_1568_scale.jpg         No\n",
              "\n",
              "[64 rows x 11 columns]"
            ]
          },
          "metadata": {
            "tags": []
          },
          "execution_count": 99
        }
      ]
    },
    {
      "cell_type": "markdown",
      "metadata": {
        "id": "HweAQB13qcrr"
      },
      "source": [
        "Tampered Images"
      ]
    },
    {
      "cell_type": "code",
      "metadata": {
        "colab": {
          "base_uri": "https://localhost:8080/"
        },
        "id": "drXmY6Ax7gL4",
        "outputId": "61d7195e-af16-447b-a6fb-d2bbf0ca4134"
      },
      "source": [
        "#Import tampered images\n",
        "!unzip gdrive/MyDrive/IMG_Project/Tampered.zip"
      ],
      "execution_count": 100,
      "outputs": [
        {
          "output_type": "stream",
          "text": [
            "Archive:  gdrive/MyDrive/IMG_Project/Tampered.zip\n",
            "replace Tampered/DSCN45tamp176.jpg? [y]es, [n]o, [A]ll, [N]one, [r]ename: A\n",
            "  inflating: Tampered/DSCN45tamp176.jpg  \n",
            "  inflating: __MACOSX/Tampered/._DSCN45tamp176.jpg  \n",
            "  inflating: Tampered/DSC_1540tamp131.jpg  \n",
            "  inflating: __MACOSX/Tampered/._DSC_1540tamp131.jpg  \n",
            "  inflating: Tampered/DSC_1540tamp27.jpg  \n",
            "  inflating: __MACOSX/Tampered/._DSC_1540tamp27.jpg  \n",
            "  inflating: Tampered/CRW_4901_JFRtamp37.jpg  \n",
            "  inflating: __MACOSX/Tampered/._CRW_4901_JFRtamp37.jpg  \n",
            "  inflating: Tampered/DSCN41tamp27.jpg  \n",
            "  inflating: __MACOSX/Tampered/._DSCN41tamp27.jpg  \n",
            "  inflating: Tampered/sony_61tamp37.jpg  \n",
            "  inflating: __MACOSX/Tampered/._sony_61tamp37.jpg  \n",
            "  inflating: Tampered/DSC_0812tamp27.jpg  \n",
            "  inflating: __MACOSX/Tampered/._DSC_0812tamp27.jpg  \n",
            "  inflating: Tampered/CRW_4853tamp176.jpg  \n",
            "  inflating: __MACOSX/Tampered/._CRW_4853tamp176.jpg  \n",
            "  inflating: Tampered/DSCF8tamp131.jpg  \n",
            "  inflating: __MACOSX/Tampered/._DSCF8tamp131.jpg  \n",
            "  inflating: Tampered/DSC_1540tamp132.jpg  \n",
            "  inflating: __MACOSX/Tampered/._DSC_1540tamp132.jpg  \n",
            "  inflating: Tampered/DSCN41tamp134.jpg  \n",
            "  inflating: __MACOSX/Tampered/._DSCN41tamp134.jpg  \n",
            "  inflating: Tampered/DSCF8tamp133.jpg  \n",
            "  inflating: __MACOSX/Tampered/._DSCF8tamp133.jpg  \n",
            "  inflating: Tampered/DSC_0812tamp25.jpg  \n",
            "  inflating: __MACOSX/Tampered/._DSC_0812tamp25.jpg  \n",
            "  inflating: Tampered/DSCN41tamp25.jpg  \n",
            "  inflating: __MACOSX/Tampered/._DSCN41tamp25.jpg  \n",
            "  inflating: Tampered/DSC_0535tamp134.jpg  \n",
            "  inflating: __MACOSX/Tampered/._DSC_0535tamp134.jpg  \n",
            "  inflating: Tampered/sony_61tamp134.jpg  \n",
            "  inflating: __MACOSX/Tampered/._sony_61tamp134.jpg  \n",
            "  inflating: Tampered/DSCF8tamp132.jpg  \n",
            "  inflating: __MACOSX/Tampered/._DSCF8tamp132.jpg  \n",
            "  inflating: Tampered/DSC_1540tamp25.jpg  \n",
            "  inflating: __MACOSX/Tampered/._DSC_1540tamp25.jpg  \n",
            "  inflating: Tampered/DSC_1540tamp133.jpg  \n",
            "  inflating: __MACOSX/Tampered/._DSC_1540tamp133.jpg  \n",
            "  inflating: Tampered/DSCN41tamp131.jpg  \n",
            "  inflating: __MACOSX/Tampered/._DSCN41tamp131.jpg  \n",
            "  inflating: Tampered/CRW_4901_JFRtamp25.jpg  \n",
            "  inflating: __MACOSX/Tampered/._CRW_4901_JFRtamp25.jpg  \n",
            "  inflating: Tampered/.DS_Store      \n",
            "  inflating: __MACOSX/Tampered/._.DS_Store  \n",
            "  inflating: Tampered/sony_61tamp1.jpg  \n",
            "  inflating: __MACOSX/Tampered/._sony_61tamp1.jpg  \n",
            "  inflating: Tampered/sony_61tamp25.jpg  \n",
            "  inflating: __MACOSX/Tampered/._sony_61tamp25.jpg  \n",
            "  inflating: Tampered/DSC_0535tamp131.jpg  \n",
            "  inflating: __MACOSX/Tampered/._DSC_0535tamp131.jpg  \n",
            "  inflating: Tampered/sony_61tamp131.jpg  \n",
            "  inflating: __MACOSX/Tampered/._sony_61tamp131.jpg  \n",
            "  inflating: Tampered/DSC_1535tamp1.jpg  \n",
            "  inflating: __MACOSX/Tampered/._DSC_1535tamp1.jpg  \n",
            "  inflating: Tampered/DSC_1540tamp134.jpg  \n",
            "  inflating: __MACOSX/Tampered/._DSC_1540tamp134.jpg  \n",
            "  inflating: Tampered/DSCN41tamp132.jpg  \n",
            "  inflating: __MACOSX/Tampered/._DSCN41tamp132.jpg  \n",
            "  inflating: Tampered/sony_61tamp133.jpg  \n",
            "  inflating: __MACOSX/Tampered/._sony_61tamp133.jpg  \n",
            "  inflating: Tampered/DSC_0535tamp133.jpg  \n",
            "  inflating: __MACOSX/Tampered/._DSC_0535tamp133.jpg  \n",
            "  inflating: Tampered/DSC_0812tamp37.jpg  \n",
            "  inflating: __MACOSX/Tampered/._DSC_0812tamp37.jpg  \n",
            "  inflating: Tampered/sony_61tamp27.jpg  \n",
            "  inflating: __MACOSX/Tampered/._sony_61tamp27.jpg  \n",
            "  inflating: Tampered/DSCN41tamp37.jpg  \n",
            "  inflating: __MACOSX/Tampered/._DSCN41tamp37.jpg  \n",
            "  inflating: Tampered/DSC_0535tamp132.jpg  \n",
            "  inflating: __MACOSX/Tampered/._DSC_0535tamp132.jpg  \n",
            "  inflating: Tampered/CRW_4901_JFRtamp1.jpg  \n",
            "  inflating: __MACOSX/Tampered/._CRW_4901_JFRtamp1.jpg  \n",
            "  inflating: Tampered/sony_61tamp132.jpg  \n",
            "  inflating: __MACOSX/Tampered/._sony_61tamp132.jpg  \n",
            "  inflating: Tampered/CRW_4901_JFRtamp27.jpg  \n",
            "  inflating: __MACOSX/Tampered/._CRW_4901_JFRtamp27.jpg  \n",
            "  inflating: Tampered/DSC_1540tamp37.jpg  \n",
            "  inflating: __MACOSX/Tampered/._DSC_1540tamp37.jpg  \n",
            "  inflating: Tampered/DSCF8tamp134.jpg  \n",
            "  inflating: __MACOSX/Tampered/._DSCF8tamp134.jpg  \n",
            "  inflating: Tampered/DSCN41tamp133.jpg  \n",
            "  inflating: __MACOSX/Tampered/._DSCN41tamp133.jpg  \n",
            "  inflating: Tampered/sony_61tamp237.jpg  \n",
            "  inflating: __MACOSX/Tampered/._sony_61tamp237.jpg  \n",
            "  inflating: Tampered/DSC_0535tamp237.jpg  \n",
            "  inflating: __MACOSX/Tampered/._DSC_0535tamp237.jpg  \n",
            "  inflating: Tampered/DSCN41tamp1.jpg  \n",
            "  inflating: __MACOSX/Tampered/._DSCN41tamp1.jpg  \n",
            "  inflating: Tampered/DSCN41tamp237.jpg  \n",
            "  inflating: __MACOSX/Tampered/._DSCN41tamp237.jpg  \n",
            "  inflating: Tampered/CRW_4853tamp37.jpg  \n",
            "  inflating: __MACOSX/Tampered/._CRW_4853tamp37.jpg  \n",
            "  inflating: Tampered/DSC_1568tamp176.jpg  \n",
            "  inflating: __MACOSX/Tampered/._DSC_1568tamp176.jpg  \n",
            "  inflating: Tampered/DSC_0812tamp176.jpg  \n",
            "  inflating: __MACOSX/Tampered/._DSC_0812tamp176.jpg  \n",
            "  inflating: Tampered/DSCF8tamp237.jpg  \n",
            "  inflating: __MACOSX/Tampered/._DSCF8tamp237.jpg  \n",
            "  inflating: Tampered/CRW_4901_JFRtamp176.jpg  \n",
            "  inflating: __MACOSX/Tampered/._CRW_4901_JFRtamp176.jpg  \n",
            "  inflating: Tampered/DSC_0812tamp1.jpg  \n",
            "  inflating: __MACOSX/Tampered/._DSC_0812tamp1.jpg  \n",
            "  inflating: Tampered/DSC_1540tamp237.jpg  \n",
            "  inflating: __MACOSX/Tampered/._DSC_1540tamp237.jpg  \n",
            "  inflating: Tampered/CRW_4853tamp27.jpg  \n",
            "  inflating: __MACOSX/Tampered/._CRW_4853tamp27.jpg  \n",
            "  inflating: Tampered/CRW_4853tamp25.jpg  \n",
            "  inflating: __MACOSX/Tampered/._CRW_4853tamp25.jpg  \n",
            "  inflating: Tampered/DSC_1535tamp176.jpg  \n",
            "  inflating: __MACOSX/Tampered/._DSC_1535tamp176.jpg  \n",
            "  inflating: Tampered/DSCF8tamp1.jpg  \n",
            "  inflating: __MACOSX/Tampered/._DSCF8tamp1.jpg  \n",
            "  inflating: Tampered/DSCN45tamp134.jpg  \n",
            "  inflating: __MACOSX/Tampered/._DSCN45tamp134.jpg  \n",
            "  inflating: Tampered/DSC_1568tamp37.jpg  \n",
            "  inflating: __MACOSX/Tampered/._DSC_1568tamp37.jpg  \n",
            "  inflating: Tampered/DSC_0812tamp237.jpg  \n",
            "  inflating: __MACOSX/Tampered/._DSC_0812tamp237.jpg  \n",
            "  inflating: Tampered/DSC_1535tamp25.jpg  \n",
            "  inflating: __MACOSX/Tampered/._DSC_1535tamp25.jpg  \n",
            "  inflating: Tampered/DSC_0535tamp37.jpg  \n",
            "  inflating: __MACOSX/Tampered/._DSC_0535tamp37.jpg  \n",
            "  inflating: Tampered/CRW_4853tamp134.jpg  \n",
            "  inflating: __MACOSX/Tampered/._CRW_4853tamp134.jpg  \n",
            "  inflating: Tampered/DSC_1568tamp237.jpg  \n",
            "  inflating: __MACOSX/Tampered/._DSC_1568tamp237.jpg  \n",
            "  inflating: Tampered/DSCN41tamp176.jpg  \n",
            "  inflating: __MACOSX/Tampered/._DSCN41tamp176.jpg  \n",
            "  inflating: Tampered/DSC_1540tamp1.jpg  \n",
            "  inflating: __MACOSX/Tampered/._DSC_1540tamp1.jpg  \n",
            "  inflating: Tampered/DSCN45tamp1.jpg  \n",
            "  inflating: __MACOSX/Tampered/._DSCN45tamp1.jpg  \n",
            "  inflating: Tampered/DSCN45tamp37.jpg  \n",
            "  inflating: __MACOSX/Tampered/._DSCN45tamp37.jpg  \n",
            "  inflating: Tampered/DSC_0535tamp1.jpg  \n",
            "  inflating: __MACOSX/Tampered/._DSC_0535tamp1.jpg  \n",
            "  inflating: Tampered/DSC_1535tamp27.jpg  \n",
            "  inflating: __MACOSX/Tampered/._DSC_1535tamp27.jpg  \n",
            "  inflating: Tampered/DSC_0535tamp176.jpg  \n",
            "  inflating: __MACOSX/Tampered/._DSC_0535tamp176.jpg  \n",
            "  inflating: Tampered/sony_61tamp176.jpg  \n",
            "  inflating: __MACOSX/Tampered/._sony_61tamp176.jpg  \n",
            "  inflating: Tampered/DSCN45tamp132.jpg  \n",
            "  inflating: __MACOSX/Tampered/._DSCN45tamp132.jpg  \n",
            "  inflating: Tampered/CRW_4853tamp133.jpg  \n",
            "  inflating: __MACOSX/Tampered/._CRW_4853tamp133.jpg  \n",
            "  inflating: Tampered/DSC_1568tamp25.jpg  \n",
            "  inflating: __MACOSX/Tampered/._DSC_1568tamp25.jpg  \n",
            "  inflating: Tampered/DSC_1535tamp37.jpg  \n",
            "  inflating: __MACOSX/Tampered/._DSC_1535tamp37.jpg  \n",
            "  inflating: Tampered/DSCN45tamp27.jpg  \n",
            "  inflating: __MACOSX/Tampered/._DSCN45tamp27.jpg  \n",
            "  inflating: Tampered/CRW_4853tamp132.jpg  \n",
            "  inflating: __MACOSX/Tampered/._CRW_4853tamp132.jpg  \n",
            "  inflating: Tampered/DSC_0535tamp25.jpg  \n",
            "  inflating: __MACOSX/Tampered/._DSC_0535tamp25.jpg  \n",
            "  inflating: Tampered/DSCN45tamp133.jpg  \n",
            "  inflating: __MACOSX/Tampered/._DSCN45tamp133.jpg  \n",
            "  inflating: Tampered/DSC_1535tamp237.jpg  \n",
            "  inflating: __MACOSX/Tampered/._DSC_1535tamp237.jpg  \n",
            "  inflating: Tampered/DSCN45tamp131.jpg  \n",
            "  inflating: __MACOSX/Tampered/._DSCN45tamp131.jpg  \n",
            "  inflating: Tampered/DSC_1540tamp176.jpg  \n",
            "  inflating: __MACOSX/Tampered/._DSC_1540tamp176.jpg  \n",
            "  inflating: Tampered/DSC_0535tamp27.jpg  \n",
            "  inflating: __MACOSX/Tampered/._DSC_0535tamp27.jpg  \n",
            "  inflating: Tampered/DSCN45tamp25.jpg  \n",
            "  inflating: __MACOSX/Tampered/._DSCN45tamp25.jpg  \n",
            "  inflating: Tampered/CRW_4853tamp1.jpg  \n",
            "  inflating: __MACOSX/Tampered/._CRW_4853tamp1.jpg  \n",
            "  inflating: Tampered/DSC_1568tamp27.jpg  \n",
            "  inflating: __MACOSX/Tampered/._DSC_1568tamp27.jpg  \n",
            "  inflating: Tampered/CRW_4901_JFRtamp237.jpg  \n",
            "  inflating: __MACOSX/Tampered/._CRW_4901_JFRtamp237.jpg  \n",
            "  inflating: Tampered/CRW_4853tamp131.jpg  \n",
            "  inflating: __MACOSX/Tampered/._CRW_4853tamp131.jpg  \n",
            "  inflating: Tampered/DSC_1568tamp1.jpg  \n",
            "  inflating: __MACOSX/Tampered/._DSC_1568tamp1.jpg  \n",
            "  inflating: Tampered/DSCF8tamp176.jpg  \n",
            "  inflating: __MACOSX/Tampered/._DSCF8tamp176.jpg  \n",
            "  inflating: Tampered/DSC_1535tamp131.jpg  \n",
            "  inflating: __MACOSX/Tampered/._DSC_1535tamp131.jpg  \n",
            "  inflating: Tampered/CRW_4901_JFRtamp132.jpg  \n",
            "  inflating: __MACOSX/Tampered/._CRW_4901_JFRtamp132.jpg  \n",
            "  inflating: Tampered/DSCF8tamp25.jpg  \n",
            "  inflating: __MACOSX/Tampered/._DSCF8tamp25.jpg  \n",
            "  inflating: Tampered/CRW_4901_JFRtamp133.jpg  \n",
            "  inflating: __MACOSX/Tampered/._CRW_4901_JFRtamp133.jpg  \n",
            "  inflating: Tampered/DSC_1535tamp132.jpg  \n",
            "  inflating: __MACOSX/Tampered/._DSC_1535tamp132.jpg  \n",
            "  inflating: Tampered/DSC_1568tamp134.jpg  \n",
            "  inflating: __MACOSX/Tampered/._DSC_1568tamp134.jpg  \n",
            "  inflating: Tampered/CRW_4901_JFRtamp131.jpg  \n",
            "  inflating: __MACOSX/Tampered/._CRW_4901_JFRtamp131.jpg  \n",
            "  inflating: Tampered/CRW_4853tamp237.jpg  \n",
            "  inflating: __MACOSX/Tampered/._CRW_4853tamp237.jpg  \n",
            "  inflating: Tampered/DSC_0812tamp134.jpg  \n",
            "  inflating: __MACOSX/Tampered/._DSC_0812tamp134.jpg  \n",
            "  inflating: Tampered/DSCF8tamp27.jpg  \n",
            "  inflating: __MACOSX/Tampered/._DSCF8tamp27.jpg  \n",
            "  inflating: Tampered/DSC_1535tamp133.jpg  \n",
            "  inflating: __MACOSX/Tampered/._DSC_1535tamp133.jpg  \n",
            "  inflating: Tampered/DSCN45tamp237.jpg  \n",
            "  inflating: __MACOSX/Tampered/._DSCN45tamp237.jpg  \n",
            "  inflating: Tampered/DSC_1568tamp131.jpg  \n",
            "  inflating: __MACOSX/Tampered/._DSC_1568tamp131.jpg  \n",
            "  inflating: Tampered/DSCF8tamp37.jpg  \n",
            "  inflating: __MACOSX/Tampered/._DSCF8tamp37.jpg  \n",
            "  inflating: Tampered/CRW_4901_JFRtamp134.jpg  \n",
            "  inflating: __MACOSX/Tampered/._CRW_4901_JFRtamp134.jpg  \n",
            "  inflating: Tampered/DSC_0812tamp131.jpg  \n",
            "  inflating: __MACOSX/Tampered/._DSC_0812tamp131.jpg  \n",
            "  inflating: Tampered/DSC_1535tamp134.jpg  \n",
            "  inflating: __MACOSX/Tampered/._DSC_1535tamp134.jpg  \n",
            "  inflating: Tampered/DSC_1568tamp132.jpg  \n",
            "  inflating: __MACOSX/Tampered/._DSC_1568tamp132.jpg  \n",
            "  inflating: Tampered/DSC_0812tamp133.jpg  \n",
            "  inflating: __MACOSX/Tampered/._DSC_0812tamp133.jpg  \n",
            "  inflating: Tampered/DSC_0812tamp132.jpg  \n",
            "  inflating: __MACOSX/Tampered/._DSC_0812tamp132.jpg  \n",
            "  inflating: Tampered/DSC_1568tamp133.jpg  \n",
            "  inflating: __MACOSX/Tampered/._DSC_1568tamp133.jpg  \n"
          ],
          "name": "stdout"
        }
      ]
    },
    {
      "cell_type": "code",
      "metadata": {
        "id": "5RG_p9Dx9VSH"
      },
      "source": [
        "#Create list of images\n",
        "tampered_img = []\n",
        "for root, subdirs, files in os.walk(\".\"):\n",
        "  for file in files:\n",
        "     if file.endswith(\".jpg\"):\n",
        "         tampered_img.append(os.path.join(root, file))"
      ],
      "execution_count": 101,
      "outputs": []
    },
    {
      "cell_type": "code",
      "metadata": {
        "id": "zdGSAJ_SBLgR"
      },
      "source": [
        "#Create list of the Tampered images\n",
        "tampered_img2 = [img.lstrip(\"./\") for img in tampered_img if img.startswith(\"./Tampered\")]"
      ],
      "execution_count": 102,
      "outputs": []
    },
    {
      "cell_type": "code",
      "metadata": {
        "id": "MxqEZJkM9VWc"
      },
      "source": [
        "#\n",
        "img_even_tampered = []\n",
        "for root, subdirs, files in os.walk(\"./even_imgs_tampered\"):\n",
        "  for file in files:\n",
        "     if file.endswith(\"jpg\"):\n",
        "         img_even_tampered.append(os.path.join(root, file))"
      ],
      "execution_count": 103,
      "outputs": []
    },
    {
      "cell_type": "code",
      "metadata": {
        "colab": {
          "base_uri": "https://localhost:8080/"
        },
        "id": "wFXZse6c9Vai",
        "outputId": "918cb87f-df14-4d64-abcf-6afaf12f64a1"
      },
      "source": [
        "#Create folder with all even tampered images \n",
        "!mkdir even_imgs_tampered"
      ],
      "execution_count": 104,
      "outputs": [
        {
          "output_type": "stream",
          "text": [
            "mkdir: cannot create directory ‘even_imgs_tampered’: File exists\n"
          ],
          "name": "stdout"
        }
      ]
    },
    {
      "cell_type": "code",
      "metadata": {
        "id": "_8DvR9H99Vfj"
      },
      "source": [
        "#Import even tampered images into\n",
        "import shutil\n",
        "for img in tampered_img2:\n",
        "  if is_img_even(img):\n",
        "    shutil.copy(img, \"./even_imgs_tampered/\"+os.path.basename(img))"
      ],
      "execution_count": 105,
      "outputs": []
    },
    {
      "cell_type": "code",
      "metadata": {
        "id": "IH_ENOsL-MOr"
      },
      "source": [
        "#Create tampered dataframe with image, and the frequency of first digits\n",
        "c = 0\n",
        "data_freq = []\n",
        "for i in img_even_tampered:\n",
        "\n",
        "  fct = compute_first_digits(i, normalise=True, debug_dct=False)\n",
        "  com = fct.reshape(fct.shape[0]*fct.shape[1],).tolist()\n",
        "  freq = {} \n",
        "  for item in com: \n",
        "    if (item in freq): \n",
        "      freq[item] += 1\n",
        "    else: \n",
        "      freq[item] = 1\n",
        "  freq['Img']= i\n",
        "  data_freq.append(freq)\n",
        "df2 = pd.DataFrame(data_freq)"
      ],
      "execution_count": 106,
      "outputs": []
    },
    {
      "cell_type": "code",
      "metadata": {
        "id": "IaYBGZ99-Ma5"
      },
      "source": [
        "df2['Tampered?']= \"Yes\""
      ],
      "execution_count": 107,
      "outputs": []
    },
    {
      "cell_type": "code",
      "metadata": {
        "colab": {
          "base_uri": "https://localhost:8080/",
          "height": 419
        },
        "id": "0io_m2Pj-ub3",
        "outputId": "86fe144b-5374-4620-df4e-3f84ab9fb250"
      },
      "source": [
        "df2"
      ],
      "execution_count": 108,
      "outputs": [
        {
          "output_type": "execute_result",
          "data": {
            "text/html": [
              "<div>\n",
              "<style scoped>\n",
              "    .dataframe tbody tr th:only-of-type {\n",
              "        vertical-align: middle;\n",
              "    }\n",
              "\n",
              "    .dataframe tbody tr th {\n",
              "        vertical-align: top;\n",
              "    }\n",
              "\n",
              "    .dataframe thead th {\n",
              "        text-align: right;\n",
              "    }\n",
              "</style>\n",
              "<table border=\"1\" class=\"dataframe\">\n",
              "  <thead>\n",
              "    <tr style=\"text-align: right;\">\n",
              "      <th></th>\n",
              "      <th>2</th>\n",
              "      <th>4</th>\n",
              "      <th>1</th>\n",
              "      <th>6</th>\n",
              "      <th>3</th>\n",
              "      <th>8</th>\n",
              "      <th>9</th>\n",
              "      <th>7</th>\n",
              "      <th>5</th>\n",
              "      <th>Img</th>\n",
              "      <th>Tampered?</th>\n",
              "    </tr>\n",
              "  </thead>\n",
              "  <tbody>\n",
              "    <tr>\n",
              "      <th>0</th>\n",
              "      <td>67994</td>\n",
              "      <td>42312</td>\n",
              "      <td>124966</td>\n",
              "      <td>31393</td>\n",
              "      <td>50852</td>\n",
              "      <td>23702</td>\n",
              "      <td>20970</td>\n",
              "      <td>27297</td>\n",
              "      <td>36114</td>\n",
              "      <td>./even_imgs_tampered/DSC_0535tamp237.jpg</td>\n",
              "      <td>Yes</td>\n",
              "    </tr>\n",
              "    <tr>\n",
              "      <th>1</th>\n",
              "      <td>86566</td>\n",
              "      <td>48357</td>\n",
              "      <td>141136</td>\n",
              "      <td>31581</td>\n",
              "      <td>62598</td>\n",
              "      <td>23606</td>\n",
              "      <td>21104</td>\n",
              "      <td>26909</td>\n",
              "      <td>38143</td>\n",
              "      <td>./even_imgs_tampered/DSCF8tamp1.jpg</td>\n",
              "      <td>Yes</td>\n",
              "    </tr>\n",
              "    <tr>\n",
              "      <th>2</th>\n",
              "      <td>75188</td>\n",
              "      <td>42780</td>\n",
              "      <td>123953</td>\n",
              "      <td>28424</td>\n",
              "      <td>55256</td>\n",
              "      <td>21586</td>\n",
              "      <td>18991</td>\n",
              "      <td>24667</td>\n",
              "      <td>34755</td>\n",
              "      <td>./even_imgs_tampered/DSC_1568tamp37.jpg</td>\n",
              "      <td>Yes</td>\n",
              "    </tr>\n",
              "    <tr>\n",
              "      <th>3</th>\n",
              "      <td>77464</td>\n",
              "      <td>41299</td>\n",
              "      <td>128406</td>\n",
              "      <td>27372</td>\n",
              "      <td>54385</td>\n",
              "      <td>20991</td>\n",
              "      <td>18842</td>\n",
              "      <td>23958</td>\n",
              "      <td>32883</td>\n",
              "      <td>./even_imgs_tampered/DSC_1540tamp132.jpg</td>\n",
              "      <td>Yes</td>\n",
              "    </tr>\n",
              "    <tr>\n",
              "      <th>4</th>\n",
              "      <td>86741</td>\n",
              "      <td>48041</td>\n",
              "      <td>140802</td>\n",
              "      <td>31921</td>\n",
              "      <td>62649</td>\n",
              "      <td>23488</td>\n",
              "      <td>20825</td>\n",
              "      <td>27211</td>\n",
              "      <td>38322</td>\n",
              "      <td>./even_imgs_tampered/DSCF8tamp176.jpg</td>\n",
              "      <td>Yes</td>\n",
              "    </tr>\n",
              "    <tr>\n",
              "      <th>...</th>\n",
              "      <td>...</td>\n",
              "      <td>...</td>\n",
              "      <td>...</td>\n",
              "      <td>...</td>\n",
              "      <td>...</td>\n",
              "      <td>...</td>\n",
              "      <td>...</td>\n",
              "      <td>...</td>\n",
              "      <td>...</td>\n",
              "      <td>...</td>\n",
              "      <td>...</td>\n",
              "    </tr>\n",
              "    <tr>\n",
              "      <th>65</th>\n",
              "      <td>89862</td>\n",
              "      <td>48748</td>\n",
              "      <td>138212</td>\n",
              "      <td>31050</td>\n",
              "      <td>65003</td>\n",
              "      <td>22745</td>\n",
              "      <td>20393</td>\n",
              "      <td>25904</td>\n",
              "      <td>38083</td>\n",
              "      <td>./even_imgs_tampered/DSCF8tamp134.jpg</td>\n",
              "      <td>Yes</td>\n",
              "    </tr>\n",
              "    <tr>\n",
              "      <th>66</th>\n",
              "      <td>89256</td>\n",
              "      <td>49176</td>\n",
              "      <td>138023</td>\n",
              "      <td>31264</td>\n",
              "      <td>64550</td>\n",
              "      <td>22950</td>\n",
              "      <td>20324</td>\n",
              "      <td>25956</td>\n",
              "      <td>38501</td>\n",
              "      <td>./even_imgs_tampered/DSCF8tamp133.jpg</td>\n",
              "      <td>Yes</td>\n",
              "    </tr>\n",
              "    <tr>\n",
              "      <th>67</th>\n",
              "      <td>75333</td>\n",
              "      <td>42552</td>\n",
              "      <td>123843</td>\n",
              "      <td>28974</td>\n",
              "      <td>54824</td>\n",
              "      <td>21635</td>\n",
              "      <td>19190</td>\n",
              "      <td>24386</td>\n",
              "      <td>34863</td>\n",
              "      <td>./even_imgs_tampered/DSC_1568tamp237.jpg</td>\n",
              "      <td>Yes</td>\n",
              "    </tr>\n",
              "    <tr>\n",
              "      <th>68</th>\n",
              "      <td>87024</td>\n",
              "      <td>48114</td>\n",
              "      <td>140383</td>\n",
              "      <td>31432</td>\n",
              "      <td>63005</td>\n",
              "      <td>23606</td>\n",
              "      <td>20973</td>\n",
              "      <td>27069</td>\n",
              "      <td>38394</td>\n",
              "      <td>./even_imgs_tampered/DSCF8tamp131.jpg</td>\n",
              "      <td>Yes</td>\n",
              "    </tr>\n",
              "    <tr>\n",
              "      <th>69</th>\n",
              "      <td>68058</td>\n",
              "      <td>42081</td>\n",
              "      <td>124662</td>\n",
              "      <td>31250</td>\n",
              "      <td>51317</td>\n",
              "      <td>23795</td>\n",
              "      <td>21084</td>\n",
              "      <td>27273</td>\n",
              "      <td>36080</td>\n",
              "      <td>./even_imgs_tampered/DSC_0535tamp176.jpg</td>\n",
              "      <td>Yes</td>\n",
              "    </tr>\n",
              "  </tbody>\n",
              "</table>\n",
              "<p>70 rows × 11 columns</p>\n",
              "</div>"
            ],
            "text/plain": [
              "        2      4  ...                                       Img  Tampered?\n",
              "0   67994  42312  ...  ./even_imgs_tampered/DSC_0535tamp237.jpg        Yes\n",
              "1   86566  48357  ...       ./even_imgs_tampered/DSCF8tamp1.jpg        Yes\n",
              "2   75188  42780  ...   ./even_imgs_tampered/DSC_1568tamp37.jpg        Yes\n",
              "3   77464  41299  ...  ./even_imgs_tampered/DSC_1540tamp132.jpg        Yes\n",
              "4   86741  48041  ...     ./even_imgs_tampered/DSCF8tamp176.jpg        Yes\n",
              "..    ...    ...  ...                                       ...        ...\n",
              "65  89862  48748  ...     ./even_imgs_tampered/DSCF8tamp134.jpg        Yes\n",
              "66  89256  49176  ...     ./even_imgs_tampered/DSCF8tamp133.jpg        Yes\n",
              "67  75333  42552  ...  ./even_imgs_tampered/DSC_1568tamp237.jpg        Yes\n",
              "68  87024  48114  ...     ./even_imgs_tampered/DSCF8tamp131.jpg        Yes\n",
              "69  68058  42081  ...  ./even_imgs_tampered/DSC_0535tamp176.jpg        Yes\n",
              "\n",
              "[70 rows x 11 columns]"
            ]
          },
          "metadata": {
            "tags": []
          },
          "execution_count": 108
        }
      ]
    },
    {
      "cell_type": "code",
      "metadata": {
        "id": "qwV6ueO3-ugw"
      },
      "source": [
        "#Combine authentic and tampered dataframe\n",
        "final = pd.concat([df, df2])"
      ],
      "execution_count": 109,
      "outputs": []
    },
    {
      "cell_type": "code",
      "metadata": {
        "id": "-xANV51QmGx_"
      },
      "source": [
        "#Create ID fro each image in dataframe\n",
        "ids = []\n",
        "for i in range(len(final)):\n",
        "  ids.append(\"IMG\"+str((i+1)))\n",
        "\n",
        "final['ID'] = ids"
      ],
      "execution_count": 110,
      "outputs": []
    },
    {
      "cell_type": "code",
      "metadata": {
        "id": "V9o8qh9k-umo"
      },
      "source": [
        "#Reorganize columns\n",
        "final = final[['ID','Img','Tampered?',1,2,3,4,5,6,7,8,9]]"
      ],
      "execution_count": 111,
      "outputs": []
    },
    {
      "cell_type": "code",
      "metadata": {
        "colab": {
          "base_uri": "https://localhost:8080/",
          "height": 439
        },
        "id": "SPYY0sh5lUkq",
        "outputId": "acff8013-692a-4eb2-feb6-8272db1a48a7"
      },
      "source": [
        "final"
      ],
      "execution_count": 112,
      "outputs": [
        {
          "output_type": "execute_result",
          "data": {
            "text/html": [
              "<div>\n",
              "<style scoped>\n",
              "    .dataframe tbody tr th:only-of-type {\n",
              "        vertical-align: middle;\n",
              "    }\n",
              "\n",
              "    .dataframe tbody tr th {\n",
              "        vertical-align: top;\n",
              "    }\n",
              "\n",
              "    .dataframe thead th {\n",
              "        text-align: right;\n",
              "    }\n",
              "</style>\n",
              "<table border=\"1\" class=\"dataframe\">\n",
              "  <thead>\n",
              "    <tr style=\"text-align: right;\">\n",
              "      <th></th>\n",
              "      <th>ID</th>\n",
              "      <th>Img</th>\n",
              "      <th>Tampered?</th>\n",
              "      <th>1</th>\n",
              "      <th>2</th>\n",
              "      <th>3</th>\n",
              "      <th>4</th>\n",
              "      <th>5</th>\n",
              "      <th>6</th>\n",
              "      <th>7</th>\n",
              "      <th>8</th>\n",
              "      <th>9</th>\n",
              "    </tr>\n",
              "  </thead>\n",
              "  <tbody>\n",
              "    <tr>\n",
              "      <th>0</th>\n",
              "      <td>IMG1</td>\n",
              "      <td>./even_imgs/DSCF6_scale.jpg</td>\n",
              "      <td>No</td>\n",
              "      <td>146147</td>\n",
              "      <td>83913</td>\n",
              "      <td>58764</td>\n",
              "      <td>45482</td>\n",
              "      <td>37912</td>\n",
              "      <td>32332</td>\n",
              "      <td>28172</td>\n",
              "      <td>24897</td>\n",
              "      <td>22381</td>\n",
              "    </tr>\n",
              "    <tr>\n",
              "      <th>1</th>\n",
              "      <td>IMG2</td>\n",
              "      <td>./even_imgs/sony_67_scale.jpg</td>\n",
              "      <td>No</td>\n",
              "      <td>149993</td>\n",
              "      <td>88017</td>\n",
              "      <td>59333</td>\n",
              "      <td>44647</td>\n",
              "      <td>35395</td>\n",
              "      <td>30122</td>\n",
              "      <td>26656</td>\n",
              "      <td>23837</td>\n",
              "      <td>22000</td>\n",
              "    </tr>\n",
              "    <tr>\n",
              "      <th>2</th>\n",
              "      <td>IMG3</td>\n",
              "      <td>./even_imgs/DSC_1535_scale.jpg</td>\n",
              "      <td>No</td>\n",
              "      <td>132818</td>\n",
              "      <td>76100</td>\n",
              "      <td>51785</td>\n",
              "      <td>39509</td>\n",
              "      <td>32387</td>\n",
              "      <td>27520</td>\n",
              "      <td>24231</td>\n",
              "      <td>21575</td>\n",
              "      <td>19675</td>\n",
              "    </tr>\n",
              "    <tr>\n",
              "      <th>3</th>\n",
              "      <td>IMG4</td>\n",
              "      <td>./even_imgs/P1000213_scale.jpg</td>\n",
              "      <td>No</td>\n",
              "      <td>146103</td>\n",
              "      <td>85509</td>\n",
              "      <td>59636</td>\n",
              "      <td>45690</td>\n",
              "      <td>37463</td>\n",
              "      <td>31879</td>\n",
              "      <td>27639</td>\n",
              "      <td>24110</td>\n",
              "      <td>21971</td>\n",
              "    </tr>\n",
              "    <tr>\n",
              "      <th>4</th>\n",
              "      <td>IMG5</td>\n",
              "      <td>./even_imgs/DSCF4_scale.jpg</td>\n",
              "      <td>No</td>\n",
              "      <td>143747</td>\n",
              "      <td>84316</td>\n",
              "      <td>59922</td>\n",
              "      <td>46248</td>\n",
              "      <td>38330</td>\n",
              "      <td>32467</td>\n",
              "      <td>28172</td>\n",
              "      <td>24698</td>\n",
              "      <td>22100</td>\n",
              "    </tr>\n",
              "    <tr>\n",
              "      <th>...</th>\n",
              "      <td>...</td>\n",
              "      <td>...</td>\n",
              "      <td>...</td>\n",
              "      <td>...</td>\n",
              "      <td>...</td>\n",
              "      <td>...</td>\n",
              "      <td>...</td>\n",
              "      <td>...</td>\n",
              "      <td>...</td>\n",
              "      <td>...</td>\n",
              "      <td>...</td>\n",
              "      <td>...</td>\n",
              "    </tr>\n",
              "    <tr>\n",
              "      <th>65</th>\n",
              "      <td>IMG130</td>\n",
              "      <td>./even_imgs_tampered/DSCF8tamp134.jpg</td>\n",
              "      <td>Yes</td>\n",
              "      <td>138212</td>\n",
              "      <td>89862</td>\n",
              "      <td>65003</td>\n",
              "      <td>48748</td>\n",
              "      <td>38083</td>\n",
              "      <td>31050</td>\n",
              "      <td>25904</td>\n",
              "      <td>22745</td>\n",
              "      <td>20393</td>\n",
              "    </tr>\n",
              "    <tr>\n",
              "      <th>66</th>\n",
              "      <td>IMG131</td>\n",
              "      <td>./even_imgs_tampered/DSCF8tamp133.jpg</td>\n",
              "      <td>Yes</td>\n",
              "      <td>138023</td>\n",
              "      <td>89256</td>\n",
              "      <td>64550</td>\n",
              "      <td>49176</td>\n",
              "      <td>38501</td>\n",
              "      <td>31264</td>\n",
              "      <td>25956</td>\n",
              "      <td>22950</td>\n",
              "      <td>20324</td>\n",
              "    </tr>\n",
              "    <tr>\n",
              "      <th>67</th>\n",
              "      <td>IMG132</td>\n",
              "      <td>./even_imgs_tampered/DSC_1568tamp237.jpg</td>\n",
              "      <td>Yes</td>\n",
              "      <td>123843</td>\n",
              "      <td>75333</td>\n",
              "      <td>54824</td>\n",
              "      <td>42552</td>\n",
              "      <td>34863</td>\n",
              "      <td>28974</td>\n",
              "      <td>24386</td>\n",
              "      <td>21635</td>\n",
              "      <td>19190</td>\n",
              "    </tr>\n",
              "    <tr>\n",
              "      <th>68</th>\n",
              "      <td>IMG133</td>\n",
              "      <td>./even_imgs_tampered/DSCF8tamp131.jpg</td>\n",
              "      <td>Yes</td>\n",
              "      <td>140383</td>\n",
              "      <td>87024</td>\n",
              "      <td>63005</td>\n",
              "      <td>48114</td>\n",
              "      <td>38394</td>\n",
              "      <td>31432</td>\n",
              "      <td>27069</td>\n",
              "      <td>23606</td>\n",
              "      <td>20973</td>\n",
              "    </tr>\n",
              "    <tr>\n",
              "      <th>69</th>\n",
              "      <td>IMG134</td>\n",
              "      <td>./even_imgs_tampered/DSC_0535tamp176.jpg</td>\n",
              "      <td>Yes</td>\n",
              "      <td>124662</td>\n",
              "      <td>68058</td>\n",
              "      <td>51317</td>\n",
              "      <td>42081</td>\n",
              "      <td>36080</td>\n",
              "      <td>31250</td>\n",
              "      <td>27273</td>\n",
              "      <td>23795</td>\n",
              "      <td>21084</td>\n",
              "    </tr>\n",
              "  </tbody>\n",
              "</table>\n",
              "<p>134 rows × 12 columns</p>\n",
              "</div>"
            ],
            "text/plain": [
              "        ID                                       Img  ...      8      9\n",
              "0     IMG1               ./even_imgs/DSCF6_scale.jpg  ...  24897  22381\n",
              "1     IMG2             ./even_imgs/sony_67_scale.jpg  ...  23837  22000\n",
              "2     IMG3            ./even_imgs/DSC_1535_scale.jpg  ...  21575  19675\n",
              "3     IMG4            ./even_imgs/P1000213_scale.jpg  ...  24110  21971\n",
              "4     IMG5               ./even_imgs/DSCF4_scale.jpg  ...  24698  22100\n",
              "..     ...                                       ...  ...    ...    ...\n",
              "65  IMG130     ./even_imgs_tampered/DSCF8tamp134.jpg  ...  22745  20393\n",
              "66  IMG131     ./even_imgs_tampered/DSCF8tamp133.jpg  ...  22950  20324\n",
              "67  IMG132  ./even_imgs_tampered/DSC_1568tamp237.jpg  ...  21635  19190\n",
              "68  IMG133     ./even_imgs_tampered/DSCF8tamp131.jpg  ...  23606  20973\n",
              "69  IMG134  ./even_imgs_tampered/DSC_0535tamp176.jpg  ...  23795  21084\n",
              "\n",
              "[134 rows x 12 columns]"
            ]
          },
          "metadata": {
            "tags": []
          },
          "execution_count": 112
        }
      ]
    },
    {
      "cell_type": "markdown",
      "metadata": {
        "id": "DWHUlT6IeIVN"
      },
      "source": [
        "#6. Application of Machine Learning using the Decision Tree Method"
      ]
    },
    {
      "cell_type": "code",
      "metadata": {
        "id": "0gCxj6-Pc8Ju",
        "colab": {
          "base_uri": "https://localhost:8080/",
          "height": 359
        },
        "outputId": "e6407173-8f33-43b2-97a0-44b25fed5bb2"
      },
      "source": [
        "final.head(10)"
      ],
      "execution_count": 113,
      "outputs": [
        {
          "output_type": "execute_result",
          "data": {
            "text/html": [
              "<div>\n",
              "<style scoped>\n",
              "    .dataframe tbody tr th:only-of-type {\n",
              "        vertical-align: middle;\n",
              "    }\n",
              "\n",
              "    .dataframe tbody tr th {\n",
              "        vertical-align: top;\n",
              "    }\n",
              "\n",
              "    .dataframe thead th {\n",
              "        text-align: right;\n",
              "    }\n",
              "</style>\n",
              "<table border=\"1\" class=\"dataframe\">\n",
              "  <thead>\n",
              "    <tr style=\"text-align: right;\">\n",
              "      <th></th>\n",
              "      <th>ID</th>\n",
              "      <th>Img</th>\n",
              "      <th>Tampered?</th>\n",
              "      <th>1</th>\n",
              "      <th>2</th>\n",
              "      <th>3</th>\n",
              "      <th>4</th>\n",
              "      <th>5</th>\n",
              "      <th>6</th>\n",
              "      <th>7</th>\n",
              "      <th>8</th>\n",
              "      <th>9</th>\n",
              "    </tr>\n",
              "  </thead>\n",
              "  <tbody>\n",
              "    <tr>\n",
              "      <th>0</th>\n",
              "      <td>IMG1</td>\n",
              "      <td>./even_imgs/DSCF6_scale.jpg</td>\n",
              "      <td>No</td>\n",
              "      <td>146147</td>\n",
              "      <td>83913</td>\n",
              "      <td>58764</td>\n",
              "      <td>45482</td>\n",
              "      <td>37912</td>\n",
              "      <td>32332</td>\n",
              "      <td>28172</td>\n",
              "      <td>24897</td>\n",
              "      <td>22381</td>\n",
              "    </tr>\n",
              "    <tr>\n",
              "      <th>1</th>\n",
              "      <td>IMG2</td>\n",
              "      <td>./even_imgs/sony_67_scale.jpg</td>\n",
              "      <td>No</td>\n",
              "      <td>149993</td>\n",
              "      <td>88017</td>\n",
              "      <td>59333</td>\n",
              "      <td>44647</td>\n",
              "      <td>35395</td>\n",
              "      <td>30122</td>\n",
              "      <td>26656</td>\n",
              "      <td>23837</td>\n",
              "      <td>22000</td>\n",
              "    </tr>\n",
              "    <tr>\n",
              "      <th>2</th>\n",
              "      <td>IMG3</td>\n",
              "      <td>./even_imgs/DSC_1535_scale.jpg</td>\n",
              "      <td>No</td>\n",
              "      <td>132818</td>\n",
              "      <td>76100</td>\n",
              "      <td>51785</td>\n",
              "      <td>39509</td>\n",
              "      <td>32387</td>\n",
              "      <td>27520</td>\n",
              "      <td>24231</td>\n",
              "      <td>21575</td>\n",
              "      <td>19675</td>\n",
              "    </tr>\n",
              "    <tr>\n",
              "      <th>3</th>\n",
              "      <td>IMG4</td>\n",
              "      <td>./even_imgs/P1000213_scale.jpg</td>\n",
              "      <td>No</td>\n",
              "      <td>146103</td>\n",
              "      <td>85509</td>\n",
              "      <td>59636</td>\n",
              "      <td>45690</td>\n",
              "      <td>37463</td>\n",
              "      <td>31879</td>\n",
              "      <td>27639</td>\n",
              "      <td>24110</td>\n",
              "      <td>21971</td>\n",
              "    </tr>\n",
              "    <tr>\n",
              "      <th>4</th>\n",
              "      <td>IMG5</td>\n",
              "      <td>./even_imgs/DSCF4_scale.jpg</td>\n",
              "      <td>No</td>\n",
              "      <td>143747</td>\n",
              "      <td>84316</td>\n",
              "      <td>59922</td>\n",
              "      <td>46248</td>\n",
              "      <td>38330</td>\n",
              "      <td>32467</td>\n",
              "      <td>28172</td>\n",
              "      <td>24698</td>\n",
              "      <td>22100</td>\n",
              "    </tr>\n",
              "    <tr>\n",
              "      <th>5</th>\n",
              "      <td>IMG6</td>\n",
              "      <td>./even_imgs/DSCF7_scale.jpg</td>\n",
              "      <td>No</td>\n",
              "      <td>146856</td>\n",
              "      <td>83192</td>\n",
              "      <td>58544</td>\n",
              "      <td>45796</td>\n",
              "      <td>37987</td>\n",
              "      <td>32235</td>\n",
              "      <td>28026</td>\n",
              "      <td>24972</td>\n",
              "      <td>22392</td>\n",
              "    </tr>\n",
              "    <tr>\n",
              "      <th>6</th>\n",
              "      <td>IMG7</td>\n",
              "      <td>./even_imgs/DSC_1573_scale.jpg</td>\n",
              "      <td>No</td>\n",
              "      <td>98740</td>\n",
              "      <td>54957</td>\n",
              "      <td>42641</td>\n",
              "      <td>35971</td>\n",
              "      <td>29941</td>\n",
              "      <td>26024</td>\n",
              "      <td>22370</td>\n",
              "      <td>19107</td>\n",
              "      <td>16809</td>\n",
              "    </tr>\n",
              "    <tr>\n",
              "      <th>7</th>\n",
              "      <td>IMG8</td>\n",
              "      <td>./even_imgs/sony_70_scale.jpg</td>\n",
              "      <td>No</td>\n",
              "      <td>144194</td>\n",
              "      <td>87158</td>\n",
              "      <td>61402</td>\n",
              "      <td>46726</td>\n",
              "      <td>37466</td>\n",
              "      <td>31356</td>\n",
              "      <td>26900</td>\n",
              "      <td>23805</td>\n",
              "      <td>20993</td>\n",
              "    </tr>\n",
              "    <tr>\n",
              "      <th>8</th>\n",
              "      <td>IMG9</td>\n",
              "      <td>./even_imgs/DSCF2_scale.jpg</td>\n",
              "      <td>No</td>\n",
              "      <td>145485</td>\n",
              "      <td>85037</td>\n",
              "      <td>59424</td>\n",
              "      <td>46144</td>\n",
              "      <td>37471</td>\n",
              "      <td>31717</td>\n",
              "      <td>28023</td>\n",
              "      <td>24748</td>\n",
              "      <td>21951</td>\n",
              "    </tr>\n",
              "    <tr>\n",
              "      <th>9</th>\n",
              "      <td>IMG10</td>\n",
              "      <td>./even_imgs/DSC_1550_scale.jpg</td>\n",
              "      <td>No</td>\n",
              "      <td>104692</td>\n",
              "      <td>61369</td>\n",
              "      <td>43434</td>\n",
              "      <td>33171</td>\n",
              "      <td>27493</td>\n",
              "      <td>22953</td>\n",
              "      <td>20038</td>\n",
              "      <td>17722</td>\n",
              "      <td>15688</td>\n",
              "    </tr>\n",
              "  </tbody>\n",
              "</table>\n",
              "</div>"
            ],
            "text/plain": [
              "      ID                             Img Tampered?  ...      7      8      9\n",
              "0   IMG1     ./even_imgs/DSCF6_scale.jpg        No  ...  28172  24897  22381\n",
              "1   IMG2   ./even_imgs/sony_67_scale.jpg        No  ...  26656  23837  22000\n",
              "2   IMG3  ./even_imgs/DSC_1535_scale.jpg        No  ...  24231  21575  19675\n",
              "3   IMG4  ./even_imgs/P1000213_scale.jpg        No  ...  27639  24110  21971\n",
              "4   IMG5     ./even_imgs/DSCF4_scale.jpg        No  ...  28172  24698  22100\n",
              "5   IMG6     ./even_imgs/DSCF7_scale.jpg        No  ...  28026  24972  22392\n",
              "6   IMG7  ./even_imgs/DSC_1573_scale.jpg        No  ...  22370  19107  16809\n",
              "7   IMG8   ./even_imgs/sony_70_scale.jpg        No  ...  26900  23805  20993\n",
              "8   IMG9     ./even_imgs/DSCF2_scale.jpg        No  ...  28023  24748  21951\n",
              "9  IMG10  ./even_imgs/DSC_1550_scale.jpg        No  ...  20038  17722  15688\n",
              "\n",
              "[10 rows x 12 columns]"
            ]
          },
          "metadata": {
            "tags": []
          },
          "execution_count": 113
        }
      ]
    },
    {
      "cell_type": "code",
      "metadata": {
        "colab": {
          "base_uri": "https://localhost:8080/",
          "height": 17
        },
        "id": "6h3Ornd0Pcyc",
        "outputId": "d731b7a5-8027-4b51-e102-464c85ad8b39"
      },
      "source": [
        "from google.colab import files\n",
        "\n",
        "final.to_csv('img_df.csv')\n",
        "files.download('img_df.csv')"
      ],
      "execution_count": 114,
      "outputs": [
        {
          "output_type": "display_data",
          "data": {
            "application/javascript": [
              "\n",
              "    async function download(id, filename, size) {\n",
              "      if (!google.colab.kernel.accessAllowed) {\n",
              "        return;\n",
              "      }\n",
              "      const div = document.createElement('div');\n",
              "      const label = document.createElement('label');\n",
              "      label.textContent = `Downloading \"${filename}\": `;\n",
              "      div.appendChild(label);\n",
              "      const progress = document.createElement('progress');\n",
              "      progress.max = size;\n",
              "      div.appendChild(progress);\n",
              "      document.body.appendChild(div);\n",
              "\n",
              "      const buffers = [];\n",
              "      let downloaded = 0;\n",
              "\n",
              "      const channel = await google.colab.kernel.comms.open(id);\n",
              "      // Send a message to notify the kernel that we're ready.\n",
              "      channel.send({})\n",
              "\n",
              "      for await (const message of channel.messages) {\n",
              "        // Send a message to notify the kernel that we're ready.\n",
              "        channel.send({})\n",
              "        if (message.buffers) {\n",
              "          for (const buffer of message.buffers) {\n",
              "            buffers.push(buffer);\n",
              "            downloaded += buffer.byteLength;\n",
              "            progress.value = downloaded;\n",
              "          }\n",
              "        }\n",
              "      }\n",
              "      const blob = new Blob(buffers, {type: 'application/binary'});\n",
              "      const a = document.createElement('a');\n",
              "      a.href = window.URL.createObjectURL(blob);\n",
              "      a.download = filename;\n",
              "      div.appendChild(a);\n",
              "      a.click();\n",
              "      div.remove();\n",
              "    }\n",
              "  "
            ],
            "text/plain": [
              "<IPython.core.display.Javascript object>"
            ]
          },
          "metadata": {
            "tags": []
          }
        },
        {
          "output_type": "display_data",
          "data": {
            "application/javascript": [
              "download(\"download_f7219c63-bfc8-4b9b-827f-2d7a6b3fb307\", \"img_df.csv\", 13809)"
            ],
            "text/plain": [
              "<IPython.core.display.Javascript object>"
            ]
          },
          "metadata": {
            "tags": []
          }
        }
      ]
    },
    {
      "cell_type": "code",
      "metadata": {
        "colab": {
          "base_uri": "https://localhost:8080/"
        },
        "id": "ZH29Jl5m4Pfe",
        "outputId": "ff74561f-1031-46d5-dd2c-37a2e62a7434"
      },
      "source": [
        "final.info()"
      ],
      "execution_count": 115,
      "outputs": [
        {
          "output_type": "stream",
          "text": [
            "<class 'pandas.core.frame.DataFrame'>\n",
            "Int64Index: 134 entries, 0 to 69\n",
            "Data columns (total 12 columns):\n",
            " #   Column     Non-Null Count  Dtype \n",
            "---  ------     --------------  ----- \n",
            " 0   ID         134 non-null    object\n",
            " 1   Img        134 non-null    object\n",
            " 2   Tampered?  134 non-null    object\n",
            " 3   1          134 non-null    int64 \n",
            " 4   2          134 non-null    int64 \n",
            " 5   3          134 non-null    int64 \n",
            " 6   4          134 non-null    int64 \n",
            " 7   5          134 non-null    int64 \n",
            " 8   6          134 non-null    int64 \n",
            " 9   7          134 non-null    int64 \n",
            " 10  8          134 non-null    int64 \n",
            " 11  9          134 non-null    int64 \n",
            "dtypes: int64(9), object(3)\n",
            "memory usage: 13.6+ KB\n"
          ],
          "name": "stdout"
        }
      ]
    },
    {
      "cell_type": "code",
      "metadata": {
        "id": "wCkIqga8c8ST",
        "colab": {
          "base_uri": "https://localhost:8080/"
        },
        "outputId": "ecd483f7-1f91-416b-c74d-a4201f199db7"
      },
      "source": [
        "#Count how many images of each - Do i need SMOTE?\n",
        "final['Tampered?'].value_counts()"
      ],
      "execution_count": 116,
      "outputs": [
        {
          "output_type": "execute_result",
          "data": {
            "text/plain": [
              "Yes    70\n",
              "No     64\n",
              "Name: Tampered?, dtype: int64"
            ]
          },
          "metadata": {
            "tags": []
          },
          "execution_count": 116
        }
      ]
    },
    {
      "cell_type": "code",
      "metadata": {
        "id": "6GkjC4cfsXTJ"
      },
      "source": [
        "#Drop ID, and Img from dataframe\n",
        "final_drop = final.drop(columns=['ID', 'Img']) "
      ],
      "execution_count": 117,
      "outputs": []
    },
    {
      "cell_type": "code",
      "metadata": {
        "id": "WqXIZGrAc8Zt"
      },
      "source": [
        "#Split numerical and categorical data into two dataframes\n",
        "data_num=final_drop.drop(columns=['Tampered?'])\n",
        "data_cat=final_drop.drop(columns=[1,2,3,4,5,6,7,8,9])"
      ],
      "execution_count": 60,
      "outputs": []
    },
    {
      "cell_type": "code",
      "metadata": {
        "id": "ufn3EXC-rgvq"
      },
      "source": [
        "#Get dummies for Tampered? column\n",
        "y_cat=pd.get_dummies(data_cat, drop_first=True)"
      ],
      "execution_count": 61,
      "outputs": []
    },
    {
      "cell_type": "code",
      "metadata": {
        "id": "9azi4hz_drSk"
      },
      "source": [
        "df = pd.concat((data_num, y_cat),axis=1)"
      ],
      "execution_count": 62,
      "outputs": []
    },
    {
      "cell_type": "code",
      "metadata": {
        "colab": {
          "base_uri": "https://localhost:8080/",
          "height": 419
        },
        "id": "q2J9rKFId6yZ",
        "outputId": "04896e8b-1151-4738-8541-0d729756d914"
      },
      "source": [
        "df"
      ],
      "execution_count": 63,
      "outputs": [
        {
          "output_type": "execute_result",
          "data": {
            "text/html": [
              "<div>\n",
              "<style scoped>\n",
              "    .dataframe tbody tr th:only-of-type {\n",
              "        vertical-align: middle;\n",
              "    }\n",
              "\n",
              "    .dataframe tbody tr th {\n",
              "        vertical-align: top;\n",
              "    }\n",
              "\n",
              "    .dataframe thead th {\n",
              "        text-align: right;\n",
              "    }\n",
              "</style>\n",
              "<table border=\"1\" class=\"dataframe\">\n",
              "  <thead>\n",
              "    <tr style=\"text-align: right;\">\n",
              "      <th></th>\n",
              "      <th>1</th>\n",
              "      <th>2</th>\n",
              "      <th>3</th>\n",
              "      <th>4</th>\n",
              "      <th>5</th>\n",
              "      <th>6</th>\n",
              "      <th>7</th>\n",
              "      <th>8</th>\n",
              "      <th>9</th>\n",
              "      <th>Tampered?_Yes</th>\n",
              "    </tr>\n",
              "  </thead>\n",
              "  <tbody>\n",
              "    <tr>\n",
              "      <th>0</th>\n",
              "      <td>146147</td>\n",
              "      <td>83913</td>\n",
              "      <td>58764</td>\n",
              "      <td>45482</td>\n",
              "      <td>37912</td>\n",
              "      <td>32332</td>\n",
              "      <td>28172</td>\n",
              "      <td>24897</td>\n",
              "      <td>22381</td>\n",
              "      <td>0</td>\n",
              "    </tr>\n",
              "    <tr>\n",
              "      <th>1</th>\n",
              "      <td>149993</td>\n",
              "      <td>88017</td>\n",
              "      <td>59333</td>\n",
              "      <td>44647</td>\n",
              "      <td>35395</td>\n",
              "      <td>30122</td>\n",
              "      <td>26656</td>\n",
              "      <td>23837</td>\n",
              "      <td>22000</td>\n",
              "      <td>0</td>\n",
              "    </tr>\n",
              "    <tr>\n",
              "      <th>2</th>\n",
              "      <td>132818</td>\n",
              "      <td>76100</td>\n",
              "      <td>51785</td>\n",
              "      <td>39509</td>\n",
              "      <td>32387</td>\n",
              "      <td>27520</td>\n",
              "      <td>24231</td>\n",
              "      <td>21575</td>\n",
              "      <td>19675</td>\n",
              "      <td>0</td>\n",
              "    </tr>\n",
              "    <tr>\n",
              "      <th>3</th>\n",
              "      <td>146103</td>\n",
              "      <td>85509</td>\n",
              "      <td>59636</td>\n",
              "      <td>45690</td>\n",
              "      <td>37463</td>\n",
              "      <td>31879</td>\n",
              "      <td>27639</td>\n",
              "      <td>24110</td>\n",
              "      <td>21971</td>\n",
              "      <td>0</td>\n",
              "    </tr>\n",
              "    <tr>\n",
              "      <th>4</th>\n",
              "      <td>143747</td>\n",
              "      <td>84316</td>\n",
              "      <td>59922</td>\n",
              "      <td>46248</td>\n",
              "      <td>38330</td>\n",
              "      <td>32467</td>\n",
              "      <td>28172</td>\n",
              "      <td>24698</td>\n",
              "      <td>22100</td>\n",
              "      <td>0</td>\n",
              "    </tr>\n",
              "    <tr>\n",
              "      <th>...</th>\n",
              "      <td>...</td>\n",
              "      <td>...</td>\n",
              "      <td>...</td>\n",
              "      <td>...</td>\n",
              "      <td>...</td>\n",
              "      <td>...</td>\n",
              "      <td>...</td>\n",
              "      <td>...</td>\n",
              "      <td>...</td>\n",
              "      <td>...</td>\n",
              "    </tr>\n",
              "    <tr>\n",
              "      <th>65</th>\n",
              "      <td>138212</td>\n",
              "      <td>89862</td>\n",
              "      <td>65003</td>\n",
              "      <td>48748</td>\n",
              "      <td>38083</td>\n",
              "      <td>31050</td>\n",
              "      <td>25904</td>\n",
              "      <td>22745</td>\n",
              "      <td>20393</td>\n",
              "      <td>1</td>\n",
              "    </tr>\n",
              "    <tr>\n",
              "      <th>66</th>\n",
              "      <td>138023</td>\n",
              "      <td>89256</td>\n",
              "      <td>64550</td>\n",
              "      <td>49176</td>\n",
              "      <td>38501</td>\n",
              "      <td>31264</td>\n",
              "      <td>25956</td>\n",
              "      <td>22950</td>\n",
              "      <td>20324</td>\n",
              "      <td>1</td>\n",
              "    </tr>\n",
              "    <tr>\n",
              "      <th>67</th>\n",
              "      <td>123843</td>\n",
              "      <td>75333</td>\n",
              "      <td>54824</td>\n",
              "      <td>42552</td>\n",
              "      <td>34863</td>\n",
              "      <td>28974</td>\n",
              "      <td>24386</td>\n",
              "      <td>21635</td>\n",
              "      <td>19190</td>\n",
              "      <td>1</td>\n",
              "    </tr>\n",
              "    <tr>\n",
              "      <th>68</th>\n",
              "      <td>140383</td>\n",
              "      <td>87024</td>\n",
              "      <td>63005</td>\n",
              "      <td>48114</td>\n",
              "      <td>38394</td>\n",
              "      <td>31432</td>\n",
              "      <td>27069</td>\n",
              "      <td>23606</td>\n",
              "      <td>20973</td>\n",
              "      <td>1</td>\n",
              "    </tr>\n",
              "    <tr>\n",
              "      <th>69</th>\n",
              "      <td>124662</td>\n",
              "      <td>68058</td>\n",
              "      <td>51317</td>\n",
              "      <td>42081</td>\n",
              "      <td>36080</td>\n",
              "      <td>31250</td>\n",
              "      <td>27273</td>\n",
              "      <td>23795</td>\n",
              "      <td>21084</td>\n",
              "      <td>1</td>\n",
              "    </tr>\n",
              "  </tbody>\n",
              "</table>\n",
              "<p>134 rows × 10 columns</p>\n",
              "</div>"
            ],
            "text/plain": [
              "         1      2      3      4  ...      7      8      9  Tampered?_Yes\n",
              "0   146147  83913  58764  45482  ...  28172  24897  22381              0\n",
              "1   149993  88017  59333  44647  ...  26656  23837  22000              0\n",
              "2   132818  76100  51785  39509  ...  24231  21575  19675              0\n",
              "3   146103  85509  59636  45690  ...  27639  24110  21971              0\n",
              "4   143747  84316  59922  46248  ...  28172  24698  22100              0\n",
              "..     ...    ...    ...    ...  ...    ...    ...    ...            ...\n",
              "65  138212  89862  65003  48748  ...  25904  22745  20393              1\n",
              "66  138023  89256  64550  49176  ...  25956  22950  20324              1\n",
              "67  123843  75333  54824  42552  ...  24386  21635  19190              1\n",
              "68  140383  87024  63005  48114  ...  27069  23606  20973              1\n",
              "69  124662  68058  51317  42081  ...  27273  23795  21084              1\n",
              "\n",
              "[134 rows x 10 columns]"
            ]
          },
          "metadata": {
            "tags": []
          },
          "execution_count": 63
        }
      ]
    },
    {
      "cell_type": "code",
      "metadata": {
        "id": "_8CQHdgU5SdE"
      },
      "source": [
        "#Define X\n",
        "X=df.drop(columns=['Tampered?_Yes'])"
      ],
      "execution_count": 64,
      "outputs": []
    },
    {
      "cell_type": "code",
      "metadata": {
        "id": "aGEjjfXuc8f2"
      },
      "source": [
        "#Define target y \n",
        "y=df['Tampered?_Yes']"
      ],
      "execution_count": 65,
      "outputs": []
    },
    {
      "cell_type": "code",
      "metadata": {
        "id": "DdU2elmg5wt8"
      },
      "source": [
        "tree = DecisionTreeClassifier()"
      ],
      "execution_count": 66,
      "outputs": []
    },
    {
      "cell_type": "code",
      "metadata": {
        "id": "jaWnI3KUc8lN"
      },
      "source": [
        "#train test split\n",
        "X_train, X_test, y_train, y_test = train_test_split(X,y,test_size=0.3,random_state=40)"
      ],
      "execution_count": 67,
      "outputs": []
    },
    {
      "cell_type": "code",
      "metadata": {
        "id": "QEHlstHm5J7y"
      },
      "source": [
        "treemodel=tree.fit(X_train,y_train)"
      ],
      "execution_count": 68,
      "outputs": []
    },
    {
      "cell_type": "code",
      "metadata": {
        "id": "neZnfwap5qU5"
      },
      "source": [
        "y_pred = treemodel.predict(X_test)"
      ],
      "execution_count": 69,
      "outputs": []
    },
    {
      "cell_type": "code",
      "metadata": {
        "colab": {
          "base_uri": "https://localhost:8080/"
        },
        "id": "46xZGODi5qaJ",
        "outputId": "334b126a-0d6d-47c9-9203-2fe65b0a54fd"
      },
      "source": [
        "accuracy_score(y_test, y_pred)"
      ],
      "execution_count": 70,
      "outputs": [
        {
          "output_type": "execute_result",
          "data": {
            "text/plain": [
              "0.7317073170731707"
            ]
          },
          "metadata": {
            "tags": []
          },
          "execution_count": 70
        }
      ]
    },
    {
      "cell_type": "code",
      "metadata": {
        "colab": {
          "base_uri": "https://localhost:8080/"
        },
        "id": "toBQAwwc5qiN",
        "outputId": "2bc0a1ed-5fb5-4fb4-ab38-1d4267749846"
      },
      "source": [
        "print(classification_report(y_test, y_pred))"
      ],
      "execution_count": 71,
      "outputs": [
        {
          "output_type": "stream",
          "text": [
            "              precision    recall  f1-score   support\n",
            "\n",
            "           0       0.73      0.61      0.67        18\n",
            "           1       0.73      0.83      0.78        23\n",
            "\n",
            "    accuracy                           0.73        41\n",
            "   macro avg       0.73      0.72      0.72        41\n",
            "weighted avg       0.73      0.73      0.73        41\n",
            "\n"
          ],
          "name": "stdout"
        }
      ]
    },
    {
      "cell_type": "code",
      "metadata": {
        "id": "-KmajMBa5qoK"
      },
      "source": [
        "cnf_matrix = confusion_matrix(y_test,y_pred)"
      ],
      "execution_count": 72,
      "outputs": []
    },
    {
      "cell_type": "code",
      "metadata": {
        "colab": {
          "base_uri": "https://localhost:8080/",
          "height": 296
        },
        "id": "n6FmBd-o6N0M",
        "outputId": "73dc317a-0626-4ce5-a655-0b32efd7d266"
      },
      "source": [
        "plot_confusion_matrix(tree,X_test, y_test)"
      ],
      "execution_count": 73,
      "outputs": [
        {
          "output_type": "execute_result",
          "data": {
            "text/plain": [
              "<sklearn.metrics._plot.confusion_matrix.ConfusionMatrixDisplay at 0x7f603aee1fd0>"
            ]
          },
          "metadata": {
            "tags": []
          },
          "execution_count": 73
        },
        {
          "output_type": "display_data",
          "data": {
            "image/png": "[encoded data removed]",
            "text/plain": [
              "<Figure size 432x288 with 2 Axes>"
            ]
          },
          "metadata": {
            "tags": [],
            "needs_background": "light"
          }
        }
      ]
    },
    {
      "cell_type": "code",
      "metadata": {
        "colab": {
          "base_uri": "https://localhost:8080/"
        },
        "id": "6sFG9KXz6N8E",
        "outputId": "def4cc51-2b82-4398-9a1e-7a2c44f46950"
      },
      "source": [
        "#ROC\n",
        "probs = tree.predict_proba(X_test)\n",
        "preds =probs[:,1]\n",
        "fpr, tpr, threshold = metrics.roc_curve(y_test, preds)\n",
        "roc_auc = metrics.auc(fpr, tpr)\n",
        "print(roc_auc)"
      ],
      "execution_count": 74,
      "outputs": [
        {
          "output_type": "stream",
          "text": [
            "0.7185990338164252\n"
          ],
          "name": "stdout"
        }
      ]
    },
    {
      "cell_type": "code",
      "metadata": {
        "colab": {
          "base_uri": "https://localhost:8080/",
          "height": 295
        },
        "id": "9eMvvE_N6OB-",
        "outputId": "1ce04a80-b97c-49cb-8f9a-304f53de6728"
      },
      "source": [
        "#Plot ROC\n",
        "plt.title('Receiver Operating Characteristic')\n",
        "plt.plot(fpr, tpr, 'b', label = 'AUC = %0.2f' % roc_auc)\n",
        "plt.legend(loc = 'lower right')\n",
        "plt.plot([0, 1], [0, 1],'r--')\n",
        "plt.xlim([0, 1])\n",
        "plt.ylim([0, 1])\n",
        "plt.ylabel('True Positive Rate')\n",
        "plt.xlabel('False Positive Rate')\n",
        "plt.show()"
      ],
      "execution_count": 75,
      "outputs": [
        {
          "output_type": "display_data",
          "data": {
            "image/png": "[encoded data removed]",
            "text/plain": [
              "<Figure size 432x288 with 1 Axes>"
            ]
          },
          "metadata": {
            "tags": [],
            "needs_background": "light"
          }
        }
      ]
    }
  ]
}